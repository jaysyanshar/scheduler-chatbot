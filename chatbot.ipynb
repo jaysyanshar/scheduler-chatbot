{
 "metadata": {
  "language_info": {
   "codemirror_mode": {
    "name": "ipython",
    "version": 3
   },
   "file_extension": ".py",
   "mimetype": "text/x-python",
   "name": "python",
   "nbconvert_exporter": "python",
   "pygments_lexer": "ipython3",
   "version": "3.9.1-final"
  },
  "orig_nbformat": 2,
  "kernelspec": {
   "name": "python3",
   "display_name": "Python 3.9.1 64-bit",
   "metadata": {
    "interpreter": {
     "hash": "a3ec6f4bc231de0bbf4e13ed7416d7bb269eb113c11cc53143a25f42b3f921da"
    }
   }
  }
 },
 "nbformat": 4,
 "nbformat_minor": 2,
 "cells": [
  {
   "source": [
    "# Chatbot\n",
    "by Muhammad Jaysy Ansharulloh\n",
    "## Import datasets"
   ],
   "cell_type": "markdown",
   "metadata": {}
  },
  {
   "cell_type": "code",
   "execution_count": 208,
   "metadata": {},
   "outputs": [],
   "source": [
    "import json\n",
    "\n",
    "intents_filepath = 'datasets/intents.json'\n",
    "with open(intents_filepath) as fi:\n",
    "    intents = json.load(fi)"
   ]
  },
  {
   "cell_type": "code",
   "execution_count": 210,
   "metadata": {},
   "outputs": [],
   "source": [
    "import pandas as pd\n",
    "\n",
    "df_intents = pd.json_normalize(intents)"
   ]
  },
  {
   "cell_type": "code",
   "execution_count": 211,
   "metadata": {},
   "outputs": [
    {
     "output_type": "execute_result",
     "data": {
      "text/plain": [
       "                                                 text                 intent\n",
       "0   Sisca, please schedule a 20 minute meeting wit...      schedule creation\n",
       "1   Sisca, I want to plan a meeting on Thursday mo...      schedule creation\n",
       "2   I would like to take this opportunity to invit...      schedule creation\n",
       "3   Are you free to meet at Bali meeting room on T...      schedule creation\n",
       "4   Are you free to chat at 4 PM to talk through h...      schedule creation\n",
       "5   Want to book in a quick meeting this week to s...      schedule creation\n",
       "6   I've got some free time next week to talk this...      schedule creation\n",
       "7         Do you have five minutes this week to talk?      schedule creation\n",
       "8   Please book a meeting room for tomorrow mornin...      schedule creation\n",
       "9   Would you be interested in hopping on a quick ...      schedule creation\n",
       "10              Sisca, do I have a schedule tomorrow?         schedule check\n",
       "11  I need to check my calendar to see if I am ava...         schedule check\n",
       "12        Please check my schedule for the next week.         schedule check\n",
       "13            Sisca, am I free for the next two days?         schedule check\n",
       "14  Let me know if I have any appointment this month.         schedule check\n",
       "15  I want to make sure if I can take a day-off to...         schedule check\n",
       "16               Do I have a meeting with John today?         schedule check\n",
       "17                 I need to cancel my meeting today.  schedule cancellation\n",
       "18  Please tell Faiz that our meeting tomorrow is ...  schedule cancellation\n",
       "19  I guess we don't need the next day's meeting a...  schedule cancellation\n",
       "20  Sisca, please tell all the participants of the...  schedule cancellation\n",
       "21               Sisca, cancel the appointment today.  schedule cancellation\n",
       "22       I want to call off the next month's meeting.  schedule cancellation\n",
       "23  I need to go tomorrow, so the meeting is cance...  schedule cancellation\n",
       "24  Sisca, please reschedule today's meeting to to...             reschedule\n",
       "25  I need to move today's schedule to the next tw...             reschedule\n",
       "26         Can we meet on Friday instead of tomorrow?             reschedule\n",
       "27  I have an urgent meeting today, so, can we mov...             reschedule\n",
       "28  About tomorrow's meeting, it seems like I have...             reschedule\n",
       "29  Sisca, please tell Tina that our meeting today...             reschedule\n",
       "30  Please tell all the participants for tomorrow ...             reschedule\n",
       "31  I need to reschedule our appointment today to ...             reschedule\n",
       "32  I need to reschedule my meeting with Faiz from...             reschedule\n",
       "33  Please tell Rani that I can't join the monthly...  schedule confirmation\n",
       "34  Sisca, please let Aliyyah know that the date o...  schedule confirmation\n",
       "35    Tell Jeremy that I can join tomorrow's meeting.  schedule confirmation\n",
       "36                    I accept the Inud's invitation.  schedule confirmation\n",
       "37  Please notify Dhiya that her meeting's invitat...  schedule confirmation\n",
       "38  Yes, I accept the invitation and I can join th...  schedule confirmation\n",
       "39  I am sorry, I cannot join your meeting next week.  schedule confirmation\n",
       "40  Please tell John that I can join his meeting t...  schedule confirmation"
      ],
      "text/html": "<div>\n<style scoped>\n    .dataframe tbody tr th:only-of-type {\n        vertical-align: middle;\n    }\n\n    .dataframe tbody tr th {\n        vertical-align: top;\n    }\n\n    .dataframe thead th {\n        text-align: right;\n    }\n</style>\n<table border=\"1\" class=\"dataframe\">\n  <thead>\n    <tr style=\"text-align: right;\">\n      <th></th>\n      <th>text</th>\n      <th>intent</th>\n    </tr>\n  </thead>\n  <tbody>\n    <tr>\n      <th>0</th>\n      <td>Sisca, please schedule a 20 minute meeting wit...</td>\n      <td>schedule creation</td>\n    </tr>\n    <tr>\n      <th>1</th>\n      <td>Sisca, I want to plan a meeting on Thursday mo...</td>\n      <td>schedule creation</td>\n    </tr>\n    <tr>\n      <th>2</th>\n      <td>I would like to take this opportunity to invit...</td>\n      <td>schedule creation</td>\n    </tr>\n    <tr>\n      <th>3</th>\n      <td>Are you free to meet at Bali meeting room on T...</td>\n      <td>schedule creation</td>\n    </tr>\n    <tr>\n      <th>4</th>\n      <td>Are you free to chat at 4 PM to talk through h...</td>\n      <td>schedule creation</td>\n    </tr>\n    <tr>\n      <th>5</th>\n      <td>Want to book in a quick meeting this week to s...</td>\n      <td>schedule creation</td>\n    </tr>\n    <tr>\n      <th>6</th>\n      <td>I've got some free time next week to talk this...</td>\n      <td>schedule creation</td>\n    </tr>\n    <tr>\n      <th>7</th>\n      <td>Do you have five minutes this week to talk?</td>\n      <td>schedule creation</td>\n    </tr>\n    <tr>\n      <th>8</th>\n      <td>Please book a meeting room for tomorrow mornin...</td>\n      <td>schedule creation</td>\n    </tr>\n    <tr>\n      <th>9</th>\n      <td>Would you be interested in hopping on a quick ...</td>\n      <td>schedule creation</td>\n    </tr>\n    <tr>\n      <th>10</th>\n      <td>Sisca, do I have a schedule tomorrow?</td>\n      <td>schedule check</td>\n    </tr>\n    <tr>\n      <th>11</th>\n      <td>I need to check my calendar to see if I am ava...</td>\n      <td>schedule check</td>\n    </tr>\n    <tr>\n      <th>12</th>\n      <td>Please check my schedule for the next week.</td>\n      <td>schedule check</td>\n    </tr>\n    <tr>\n      <th>13</th>\n      <td>Sisca, am I free for the next two days?</td>\n      <td>schedule check</td>\n    </tr>\n    <tr>\n      <th>14</th>\n      <td>Let me know if I have any appointment this month.</td>\n      <td>schedule check</td>\n    </tr>\n    <tr>\n      <th>15</th>\n      <td>I want to make sure if I can take a day-off to...</td>\n      <td>schedule check</td>\n    </tr>\n    <tr>\n      <th>16</th>\n      <td>Do I have a meeting with John today?</td>\n      <td>schedule check</td>\n    </tr>\n    <tr>\n      <th>17</th>\n      <td>I need to cancel my meeting today.</td>\n      <td>schedule cancellation</td>\n    </tr>\n    <tr>\n      <th>18</th>\n      <td>Please tell Faiz that our meeting tomorrow is ...</td>\n      <td>schedule cancellation</td>\n    </tr>\n    <tr>\n      <th>19</th>\n      <td>I guess we don't need the next day's meeting a...</td>\n      <td>schedule cancellation</td>\n    </tr>\n    <tr>\n      <th>20</th>\n      <td>Sisca, please tell all the participants of the...</td>\n      <td>schedule cancellation</td>\n    </tr>\n    <tr>\n      <th>21</th>\n      <td>Sisca, cancel the appointment today.</td>\n      <td>schedule cancellation</td>\n    </tr>\n    <tr>\n      <th>22</th>\n      <td>I want to call off the next month's meeting.</td>\n      <td>schedule cancellation</td>\n    </tr>\n    <tr>\n      <th>23</th>\n      <td>I need to go tomorrow, so the meeting is cance...</td>\n      <td>schedule cancellation</td>\n    </tr>\n    <tr>\n      <th>24</th>\n      <td>Sisca, please reschedule today's meeting to to...</td>\n      <td>reschedule</td>\n    </tr>\n    <tr>\n      <th>25</th>\n      <td>I need to move today's schedule to the next tw...</td>\n      <td>reschedule</td>\n    </tr>\n    <tr>\n      <th>26</th>\n      <td>Can we meet on Friday instead of tomorrow?</td>\n      <td>reschedule</td>\n    </tr>\n    <tr>\n      <th>27</th>\n      <td>I have an urgent meeting today, so, can we mov...</td>\n      <td>reschedule</td>\n    </tr>\n    <tr>\n      <th>28</th>\n      <td>About tomorrow's meeting, it seems like I have...</td>\n      <td>reschedule</td>\n    </tr>\n    <tr>\n      <th>29</th>\n      <td>Sisca, please tell Tina that our meeting today...</td>\n      <td>reschedule</td>\n    </tr>\n    <tr>\n      <th>30</th>\n      <td>Please tell all the participants for tomorrow ...</td>\n      <td>reschedule</td>\n    </tr>\n    <tr>\n      <th>31</th>\n      <td>I need to reschedule our appointment today to ...</td>\n      <td>reschedule</td>\n    </tr>\n    <tr>\n      <th>32</th>\n      <td>I need to reschedule my meeting with Faiz from...</td>\n      <td>reschedule</td>\n    </tr>\n    <tr>\n      <th>33</th>\n      <td>Please tell Rani that I can't join the monthly...</td>\n      <td>schedule confirmation</td>\n    </tr>\n    <tr>\n      <th>34</th>\n      <td>Sisca, please let Aliyyah know that the date o...</td>\n      <td>schedule confirmation</td>\n    </tr>\n    <tr>\n      <th>35</th>\n      <td>Tell Jeremy that I can join tomorrow's meeting.</td>\n      <td>schedule confirmation</td>\n    </tr>\n    <tr>\n      <th>36</th>\n      <td>I accept the Inud's invitation.</td>\n      <td>schedule confirmation</td>\n    </tr>\n    <tr>\n      <th>37</th>\n      <td>Please notify Dhiya that her meeting's invitat...</td>\n      <td>schedule confirmation</td>\n    </tr>\n    <tr>\n      <th>38</th>\n      <td>Yes, I accept the invitation and I can join th...</td>\n      <td>schedule confirmation</td>\n    </tr>\n    <tr>\n      <th>39</th>\n      <td>I am sorry, I cannot join your meeting next week.</td>\n      <td>schedule confirmation</td>\n    </tr>\n    <tr>\n      <th>40</th>\n      <td>Please tell John that I can join his meeting t...</td>\n      <td>schedule confirmation</td>\n    </tr>\n  </tbody>\n</table>\n</div>"
     },
     "metadata": {},
     "execution_count": 211
    }
   ],
   "source": [
    "df_intents"
   ]
  },
  {
   "source": [
    "## Text Preprocessing\n",
    "### download and import required libraries and dictionaries"
   ],
   "cell_type": "markdown",
   "metadata": {}
  },
  {
   "cell_type": "code",
   "execution_count": 212,
   "metadata": {},
   "outputs": [
    {
     "output_type": "stream",
     "name": "stderr",
     "text": [
      "[nltk_data] Downloading package punkt to\n[nltk_data]     C:\\Users\\jaysy\\AppData\\Roaming\\nltk_data...\n[nltk_data]   Package punkt is already up-to-date!\n[nltk_data] Downloading package stopwords to\n[nltk_data]     C:\\Users\\jaysy\\AppData\\Roaming\\nltk_data...\n[nltk_data]   Package stopwords is already up-to-date!\n[nltk_data] Downloading package wordnet to\n[nltk_data]     C:\\Users\\jaysy\\AppData\\Roaming\\nltk_data...\n[nltk_data]   Package wordnet is already up-to-date!\n"
     ]
    },
    {
     "output_type": "execute_result",
     "data": {
      "text/plain": [
       "True"
      ]
     },
     "metadata": {},
     "execution_count": 212
    }
   ],
   "source": [
    "import nltk\n",
    "\n",
    "language = 'english'\n",
    "nltk.download('punkt')\n",
    "nltk.download('stopwords')\n",
    "nltk.download('wordnet')"
   ]
  },
  {
   "cell_type": "code",
   "execution_count": 213,
   "metadata": {},
   "outputs": [],
   "source": [
    "from nltk.corpus import stopwords\n",
    "from nltk.stem import PorterStemmer, WordNetLemmatizer\n",
    "from nltk.corpus import wordnet\n",
    "import re"
   ]
  },
  {
   "source": [
    "### process text"
   ],
   "cell_type": "markdown",
   "metadata": {}
  },
  {
   "cell_type": "code",
   "execution_count": 214,
   "metadata": {},
   "outputs": [],
   "source": [
    "texts = df_intents['text'].tolist()"
   ]
  },
  {
   "cell_type": "code",
   "execution_count": 215,
   "metadata": {},
   "outputs": [],
   "source": [
    "def preprocess_text(text):\n",
    "    regex = r'[^\\w]'\n",
    "    lemmatizer = WordNetLemmatizer()\n",
    "    stop_words = set(stopwords.words(language))\n",
    "    sentences = ' '.join(nltk.sent_tokenize(re.sub(regex, ' ', text.lower())))\n",
    "    words = [lemmatizer.lemmatize(word, wordnet.VERB) for word in nltk.word_tokenize(sentences) if not word in stop_words]\n",
    "    return ' '.join(words)"
   ]
  },
  {
   "cell_type": "code",
   "execution_count": 216,
   "metadata": {},
   "outputs": [],
   "source": [
    "documents = []\n",
    "for text in texts:\n",
    "    documents.append(preprocess_text(text))"
   ]
  },
  {
   "cell_type": "code",
   "execution_count": 217,
   "metadata": {},
   "outputs": [
    {
     "output_type": "execute_result",
     "data": {
      "text/plain": [
       "['sisca please schedule 20 minute meet john week let deployment issue',\n",
       " 'sisca want plan meet thursday morning 9 precisely',\n",
       " 'would like take opportunity invite meet office 9 november 25 2020 discuss',\n",
       " 'free meet bali meet room tuesday morning talk',\n",
       " 'free chat 4 pm talk could help product release',\n",
       " 'want book quick meet week see let know available',\n",
       " 'get free time next week talk let create appointment',\n",
       " 'five minutes week talk',\n",
       " 'please book meet room tomorrow morning invite jays',\n",
       " 'would interest hop quick 15 minute call learn',\n",
       " 'sisca schedule tomorrow',\n",
       " 'need check calendar see available',\n",
       " 'please check schedule next week',\n",
       " 'sisca free next two days',\n",
       " 'let know appointment month',\n",
       " 'want make sure take day tomorrow',\n",
       " 'meet john today',\n",
       " 'need cancel meet today',\n",
       " 'please tell faiz meet tomorrow cancel',\n",
       " 'guess need next day meet anymore',\n",
       " 'sisca please tell participants project brief meet meet cancel',\n",
       " 'sisca cancel appointment today',\n",
       " 'want call next month meet',\n",
       " 'need go tomorrow meet cancel',\n",
       " 'sisca please reschedule today meet tomorrow',\n",
       " 'need move today schedule next two days',\n",
       " 'meet friday instead tomorrow',\n",
       " 'urgent meet today move schedule next week',\n",
       " 'tomorrow meet seem like another plan time reschedule thursday',\n",
       " 'sisca please tell tina meet today move next day',\n",
       " 'please tell participants tomorrow meet appointment move saturday morning',\n",
       " 'need reschedule appointment today friday fine',\n",
       " 'need reschedule meet faiz tomorrow sunday',\n",
       " 'please tell rani join monthly meet today',\n",
       " 'sisca please let aliyyah know date meet fit',\n",
       " 'tell jeremy join tomorrow meet',\n",
       " 'accept inud invitation',\n",
       " 'please notify dhiya meet invitation match',\n",
       " 'yes accept invitation join meet',\n",
       " 'sorry join meet next week',\n",
       " 'please tell john join meet tomorrow']"
      ]
     },
     "metadata": {},
     "execution_count": 217
    }
   ],
   "source": [
    "documents"
   ]
  },
  {
   "source": [
    "## Scoring"
   ],
   "cell_type": "markdown",
   "metadata": {}
  },
  {
   "cell_type": "code",
   "execution_count": 218,
   "metadata": {},
   "outputs": [],
   "source": [
    "from sklearn.feature_extraction.text import TfidfVectorizer\n",
    "\n",
    "def vectorize(documents, vectorizer=TfidfVectorizer()):\n",
    "    intent_values = vectorizer.fit_transform(documents)\n",
    "    return intent_values"
   ]
  },
  {
   "source": [
    "## Create ML Model"
   ],
   "cell_type": "markdown",
   "metadata": {}
  },
  {
   "cell_type": "code",
   "execution_count": 219,
   "metadata": {},
   "outputs": [],
   "source": [
    "vectorizer = TfidfVectorizer()\n",
    "\n",
    "X_raw = vectorize(documents, vectorizer)\n",
    "X = X_raw.toarray()\n",
    "y = df_intents['intent']"
   ]
  },
  {
   "cell_type": "code",
   "execution_count": 220,
   "metadata": {},
   "outputs": [],
   "source": [
    "feature_names = vectorizer.get_feature_names()\n",
    "learning_df = pd.DataFrame(X_raw.toarray(), columns = feature_names)"
   ]
  },
  {
   "cell_type": "code",
   "execution_count": 221,
   "metadata": {},
   "outputs": [],
   "source": [
    "learning_df['CLASS'] = y"
   ]
  },
  {
   "cell_type": "code",
   "execution_count": 222,
   "metadata": {},
   "outputs": [
    {
     "output_type": "execute_result",
     "data": {
      "text/plain": [
       "    15        20      2020        25  accept  aliyyah  another  anymore  \\\n",
       "0  0.0  0.384587  0.000000  0.000000     0.0      0.0      0.0      0.0   \n",
       "1  0.0  0.000000  0.000000  0.000000     0.0      0.0      0.0      0.0   \n",
       "2  0.0  0.000000  0.326879  0.326879     0.0      0.0      0.0      0.0   \n",
       "3  0.0  0.000000  0.000000  0.000000     0.0      0.0      0.0      0.0   \n",
       "4  0.0  0.000000  0.000000  0.000000     0.0      0.0      0.0      0.0   \n",
       "\n",
       "   appointment  available  ...  today  tomorrow   tuesday  two  urgent  \\\n",
       "0          0.0        0.0  ...    0.0       0.0  0.000000  0.0     0.0   \n",
       "1          0.0        0.0  ...    0.0       0.0  0.000000  0.0     0.0   \n",
       "2          0.0        0.0  ...    0.0       0.0  0.000000  0.0     0.0   \n",
       "3          0.0        0.0  ...    0.0       0.0  0.443362  0.0     0.0   \n",
       "4          0.0        0.0  ...    0.0       0.0  0.000000  0.0     0.0   \n",
       "\n",
       "       want      week     would  yes              CLASS  \n",
       "0  0.000000  0.252766  0.000000  0.0  schedule creation  \n",
       "1  0.373043  0.000000  0.000000  0.0  schedule creation  \n",
       "2  0.000000  0.000000  0.294109  0.0  schedule creation  \n",
       "3  0.000000  0.000000  0.000000  0.0  schedule creation  \n",
       "4  0.000000  0.000000  0.000000  0.0  schedule creation  \n",
       "\n",
       "[5 rows x 102 columns]"
      ],
      "text/html": "<div>\n<style scoped>\n    .dataframe tbody tr th:only-of-type {\n        vertical-align: middle;\n    }\n\n    .dataframe tbody tr th {\n        vertical-align: top;\n    }\n\n    .dataframe thead th {\n        text-align: right;\n    }\n</style>\n<table border=\"1\" class=\"dataframe\">\n  <thead>\n    <tr style=\"text-align: right;\">\n      <th></th>\n      <th>15</th>\n      <th>20</th>\n      <th>2020</th>\n      <th>25</th>\n      <th>accept</th>\n      <th>aliyyah</th>\n      <th>another</th>\n      <th>anymore</th>\n      <th>appointment</th>\n      <th>available</th>\n      <th>...</th>\n      <th>today</th>\n      <th>tomorrow</th>\n      <th>tuesday</th>\n      <th>two</th>\n      <th>urgent</th>\n      <th>want</th>\n      <th>week</th>\n      <th>would</th>\n      <th>yes</th>\n      <th>CLASS</th>\n    </tr>\n  </thead>\n  <tbody>\n    <tr>\n      <th>0</th>\n      <td>0.0</td>\n      <td>0.384587</td>\n      <td>0.000000</td>\n      <td>0.000000</td>\n      <td>0.0</td>\n      <td>0.0</td>\n      <td>0.0</td>\n      <td>0.0</td>\n      <td>0.0</td>\n      <td>0.0</td>\n      <td>...</td>\n      <td>0.0</td>\n      <td>0.0</td>\n      <td>0.000000</td>\n      <td>0.0</td>\n      <td>0.0</td>\n      <td>0.000000</td>\n      <td>0.252766</td>\n      <td>0.000000</td>\n      <td>0.0</td>\n      <td>schedule creation</td>\n    </tr>\n    <tr>\n      <th>1</th>\n      <td>0.0</td>\n      <td>0.000000</td>\n      <td>0.000000</td>\n      <td>0.000000</td>\n      <td>0.0</td>\n      <td>0.0</td>\n      <td>0.0</td>\n      <td>0.0</td>\n      <td>0.0</td>\n      <td>0.0</td>\n      <td>...</td>\n      <td>0.0</td>\n      <td>0.0</td>\n      <td>0.000000</td>\n      <td>0.0</td>\n      <td>0.0</td>\n      <td>0.373043</td>\n      <td>0.000000</td>\n      <td>0.000000</td>\n      <td>0.0</td>\n      <td>schedule creation</td>\n    </tr>\n    <tr>\n      <th>2</th>\n      <td>0.0</td>\n      <td>0.000000</td>\n      <td>0.326879</td>\n      <td>0.326879</td>\n      <td>0.0</td>\n      <td>0.0</td>\n      <td>0.0</td>\n      <td>0.0</td>\n      <td>0.0</td>\n      <td>0.0</td>\n      <td>...</td>\n      <td>0.0</td>\n      <td>0.0</td>\n      <td>0.000000</td>\n      <td>0.0</td>\n      <td>0.0</td>\n      <td>0.000000</td>\n      <td>0.000000</td>\n      <td>0.294109</td>\n      <td>0.0</td>\n      <td>schedule creation</td>\n    </tr>\n    <tr>\n      <th>3</th>\n      <td>0.0</td>\n      <td>0.000000</td>\n      <td>0.000000</td>\n      <td>0.000000</td>\n      <td>0.0</td>\n      <td>0.0</td>\n      <td>0.0</td>\n      <td>0.0</td>\n      <td>0.0</td>\n      <td>0.0</td>\n      <td>...</td>\n      <td>0.0</td>\n      <td>0.0</td>\n      <td>0.443362</td>\n      <td>0.0</td>\n      <td>0.0</td>\n      <td>0.000000</td>\n      <td>0.000000</td>\n      <td>0.000000</td>\n      <td>0.0</td>\n      <td>schedule creation</td>\n    </tr>\n    <tr>\n      <th>4</th>\n      <td>0.0</td>\n      <td>0.000000</td>\n      <td>0.000000</td>\n      <td>0.000000</td>\n      <td>0.0</td>\n      <td>0.0</td>\n      <td>0.0</td>\n      <td>0.0</td>\n      <td>0.0</td>\n      <td>0.0</td>\n      <td>...</td>\n      <td>0.0</td>\n      <td>0.0</td>\n      <td>0.000000</td>\n      <td>0.0</td>\n      <td>0.0</td>\n      <td>0.000000</td>\n      <td>0.000000</td>\n      <td>0.000000</td>\n      <td>0.0</td>\n      <td>schedule creation</td>\n    </tr>\n  </tbody>\n</table>\n<p>5 rows × 102 columns</p>\n</div>"
     },
     "metadata": {},
     "execution_count": 222
    }
   ],
   "source": [
    "learning_df.head()"
   ]
  },
  {
   "source": [
    "### train test split"
   ],
   "cell_type": "markdown",
   "metadata": {}
  },
  {
   "cell_type": "code",
   "execution_count": 223,
   "metadata": {},
   "outputs": [],
   "source": [
    "from sklearn.model_selection import train_test_split\n",
    "\n",
    "X_train, X_test, y_train, y_test = train_test_split(X, y, test_size=0.3, train_size=0.7)"
   ]
  },
  {
   "source": [
    "### create classifier using Naive Bayes Gaussian model"
   ],
   "cell_type": "markdown",
   "metadata": {}
  },
  {
   "cell_type": "code",
   "execution_count": 231,
   "metadata": {},
   "outputs": [
    {
     "output_type": "stream",
     "name": "stdout",
     "text": [
      "0.6153846153846154\n"
     ]
    }
   ],
   "source": [
    "# KNN\n",
    "from sklearn.neighbors import KNeighborsClassifier\n",
    "\n",
    "classifier = KNeighborsClassifier(n_neighbors=5)\n",
    "classifier.fit(X_train, y_train)\n",
    "\n",
    "# predict\n",
    "y_pred = classifier.predict(X_test)\n",
    "\n",
    "# check accuracy\n",
    "from sklearn.metrics import accuracy_score\n",
    "accuracy = accuracy_score(y_test, y_pred)\n",
    "print(accuracy)"
   ]
  },
  {
   "source": [
    "## User Input Test"
   ],
   "cell_type": "markdown",
   "metadata": {}
  },
  {
   "cell_type": "code",
   "execution_count": 232,
   "metadata": {},
   "outputs": [
    {
     "output_type": "stream",
     "name": "stdout",
     "text": [
      "['schedule check']\n"
     ]
    }
   ],
   "source": [
    "user_input = input('Your message:')\n",
    "processed_input = preprocess_text(str(user_input)).split()\n",
    "input_row = [col for col in learning_df.columns if not col == 'CLASS']\n",
    "user_input_row = [input for input in processed_input if input in input_row]\n",
    "all_input_string = ' '.join(input_row)\n",
    "user_input_string = ' '.join(user_input_row)\n",
    "input_vectorizer = TfidfVectorizer()\n",
    "input_array = vectorize([all_input_string, user_input_string], input_vectorizer)\n",
    "processed_input_array = input_array[1]\n",
    "prediction = classifier.predict(processed_input_array)\n",
    "print(prediction)"
   ]
  },
  {
   "source": [
    "## Entities Extractor"
   ],
   "cell_type": "markdown",
   "metadata": {}
  },
  {
   "cell_type": "code",
   "execution_count": 226,
   "metadata": {
    "tags": []
   },
   "outputs": [
    {
     "output_type": "stream",
     "name": "stdout",
     "text": [
      "entity defined: ['RELATIVE_TIME', 'MEETING']\nentity details: {\n  \"NUMBER\": [],\n  \"RELATIVE_TIME\": [\n    \"tomorrow\"\n  ],\n  \"DAY_TIME\": [],\n  \"MONTH\": [],\n  \"DAY\": [],\n  \"PLACE\": [],\n  \"PERSON\": [],\n  \"DURATION\": [],\n  \"MEETING\": [\n    \"meet\"\n  ]\n}\n"
     ]
    }
   ],
   "source": [
    "entities_filepath = 'datasets/entities.json'\n",
    "with open(entities_filepath) as fe:\n",
    "    entities = json.load(fe)\n",
    "\n",
    "df_entities = pd.json_normalize(entities)\n",
    "col_entities = df_entities.columns\n",
    "\n",
    "ent_list = {}\n",
    "for col in col_entities:\n",
    "    for processed in processed_input:\n",
    "        if not col in ent_list:\n",
    "            ent_list[col] = []\n",
    "        if processed in [preprocess_text(ent) for ent in df_entities[col][0]]:\n",
    "            ent_list[col].append(processed)\n",
    "\n",
    "output_ent = []\n",
    "for key, value in ent_list.items():\n",
    "    if len(value) > 0:\n",
    "        output_ent.append(key)\n",
    "\n",
    "print('entity defined:', output_ent)\n",
    "print('entity details:', json.dumps(ent_list, indent=2))"
   ]
  }
 ]
}