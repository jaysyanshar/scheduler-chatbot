{
 "metadata": {
  "language_info": {
   "codemirror_mode": {
    "name": "ipython",
    "version": 3
   },
   "file_extension": ".py",
   "mimetype": "text/x-python",
   "name": "python",
   "nbconvert_exporter": "python",
   "pygments_lexer": "ipython3",
   "version": "3.9.1-final"
  },
  "orig_nbformat": 2,
  "kernelspec": {
   "name": "python3",
   "display_name": "Python 3.9.1 64-bit",
   "metadata": {
    "interpreter": {
     "hash": "a3ec6f4bc231de0bbf4e13ed7416d7bb269eb113c11cc53143a25f42b3f921da"
    }
   }
  }
 },
 "nbformat": 4,
 "nbformat_minor": 2,
 "cells": [
  {
   "source": [
    "# Chatbot\n",
    "by Muhammad Jaysy Ansharulloh\n",
    "## Import datasets"
   ],
   "cell_type": "markdown",
   "metadata": {}
  },
  {
   "cell_type": "code",
   "execution_count": 45,
   "metadata": {},
   "outputs": [],
   "source": [
    "import json"
   ]
  },
  {
   "cell_type": "code",
   "execution_count": 46,
   "metadata": {},
   "outputs": [],
   "source": [
    "intents_filepath = 'datasets/intents.json'\n",
    "with open(intents_filepath) as fi:\n",
    "    intents = json.load(fi)"
   ]
  },
  {
   "cell_type": "code",
   "execution_count": 47,
   "metadata": {},
   "outputs": [
    {
     "output_type": "stream",
     "name": "stdout",
     "text": [
      "[{'text': 'Sisca, please schedule a 20 minute meeting with John this week. Let it be \"Deployment Issue\"', 'intent': 'schedule creation'}, {'text': 'Sisca, I want to plan a meeting on Thursday morning, at 9 AM precisely.', 'intent': 'schedule creation'}, {'text': 'I would like to take this opportunity to invite you for a meeting at our office, at 9 AM on November 25, 2020, when we can discuss this further.', 'intent': 'schedule creation'}, {'text': 'Are you free to meet at Bali meeting room on Tuesday morning to talk this through?', 'intent': 'schedule creation'}, {'text': 'Are you free to chat at 4 PM to talk through how we could help you with product release?', 'intent': 'schedule creation'}, {'text': \"Want to book in a quick meeting this week to see what we can do? Let me know when you're available.\", 'intent': 'schedule creation'}, {'text': \"I've got some free time next week to talk this through. Let's create an appointment.\", 'intent': 'schedule creation'}, {'text': 'Do you have five minutes this week to talk?', 'intent': 'schedule creation'}, {'text': 'Please book a meeting room for tomorrow morning and invite Jays.', 'intent': 'schedule creation'}, {'text': 'Would you be interested in hopping on a quick 15-minute call to learn more?', 'intent': 'schedule creation'}, {'text': 'Sisca, do I have a schedule tomorrow?', 'intent': 'schedule check'}, {'text': 'I need to check my calendar to see if I am available.', 'intent': 'schedule check'}, {'text': 'Please check my schedule for the next week.', 'intent': 'schedule check'}, {'text': 'Sisca, am I free for the next two days?', 'intent': 'schedule check'}, {'text': 'Let me know if I have any appointment this month.', 'intent': 'schedule check'}, {'text': 'I want to make sure if I can take a day-off tomorrow.', 'intent': 'schedule check'}, {'text': 'Do I have a meeting with John today?', 'intent': 'schedule check'}, {'text': 'I need to cancel my meeting today.', 'intent': 'schedule cancellation'}, {'text': 'Please tell Faiz that our meeting tomorrow is cancelled.', 'intent': 'schedule cancellation'}, {'text': \"I guess we don't need the next day's meeting anymore.\", 'intent': 'schedule cancellation'}, {'text': 'Sisca, please tell all the participants of the \"Project Briefing\"\\'s meeting that the meeting is cancelled.', 'intent': 'schedule cancellation'}, {'text': 'Sisca, cancel the appointment today.', 'intent': 'schedule cancellation'}, {'text': \"I want to call off the next month's meeting.\", 'intent': 'schedule cancellation'}, {'text': 'I need to go tomorrow, so the meeting is cancelled.', 'intent': 'schedule cancellation'}, {'text': \"Sisca, please reschedule today's meeting to tomorrow.\", 'intent': 'reschedule'}, {'text': \"I need to move today's schedule to the next two days.\", 'intent': 'reschedule'}, {'text': 'Can we meet on Friday instead of tomorrow?', 'intent': 'reschedule'}, {'text': 'I have an urgent meeting today, so, can we move the schedule to the next week?', 'intent': 'reschedule'}, {'text': \"About tomorrow's meeting, it seems like I have another plan at the same time. Should we reschedule it on Thursday?\", 'intent': 'reschedule'}, {'text': 'Sisca, please tell Tina that our meeting today will be moved to the next day.', 'intent': 'reschedule'}, {'text': 'Please tell all the participants for tomorrow meeting that our appointment is moved to Saturday morning.', 'intent': 'reschedule'}, {'text': \"Please tell Rani that I can't join the monthly meeting today.\", 'intent': 'schedule confirmation'}, {'text': 'Sisca, please let Aliyyah know that the date of our meeting is not fit for me.', 'intent': 'schedule confirmation'}, {'text': \"Tell Jeremy that I can join tomorrow's meeting.\", 'intent': 'schedule confirmation'}, {'text': \"I accept the Inud's invitation.\", 'intent': 'schedule confirmation'}, {'text': \"Please notify Dhiya that her meeting's invitation is match for me.\", 'intent': 'schedule confirmation'}, {'text': 'Yes, I accept the invitation and I can join the meeting.', 'intent': 'schedule confirmation'}, {'text': 'I am sorry, I cannot join your meeting next week.', 'intent': 'schedule confirmation'}]\n"
     ]
    }
   ],
   "source": [
    "print(intents)"
   ]
  },
  {
   "source": [
    "## JSON to dataframe"
   ],
   "cell_type": "markdown",
   "metadata": {}
  },
  {
   "cell_type": "code",
   "execution_count": 48,
   "metadata": {},
   "outputs": [],
   "source": [
    "import pandas as pd"
   ]
  },
  {
   "cell_type": "code",
   "execution_count": 49,
   "metadata": {},
   "outputs": [],
   "source": [
    "df_intents = pd.json_normalize(intents)"
   ]
  },
  {
   "cell_type": "code",
   "execution_count": 50,
   "metadata": {},
   "outputs": [
    {
     "output_type": "execute_result",
     "data": {
      "text/plain": [
       "                                                 text                 intent\n",
       "0   Sisca, please schedule a 20 minute meeting wit...      schedule creation\n",
       "1   Sisca, I want to plan a meeting on Thursday mo...      schedule creation\n",
       "2   I would like to take this opportunity to invit...      schedule creation\n",
       "3   Are you free to meet at Bali meeting room on T...      schedule creation\n",
       "4   Are you free to chat at 4 PM to talk through h...      schedule creation\n",
       "5   Want to book in a quick meeting this week to s...      schedule creation\n",
       "6   I've got some free time next week to talk this...      schedule creation\n",
       "7         Do you have five minutes this week to talk?      schedule creation\n",
       "8   Please book a meeting room for tomorrow mornin...      schedule creation\n",
       "9   Would you be interested in hopping on a quick ...      schedule creation\n",
       "10              Sisca, do I have a schedule tomorrow?         schedule check\n",
       "11  I need to check my calendar to see if I am ava...         schedule check\n",
       "12        Please check my schedule for the next week.         schedule check\n",
       "13            Sisca, am I free for the next two days?         schedule check\n",
       "14  Let me know if I have any appointment this month.         schedule check\n",
       "15  I want to make sure if I can take a day-off to...         schedule check\n",
       "16               Do I have a meeting with John today?         schedule check\n",
       "17                 I need to cancel my meeting today.  schedule cancellation\n",
       "18  Please tell Faiz that our meeting tomorrow is ...  schedule cancellation\n",
       "19  I guess we don't need the next day's meeting a...  schedule cancellation\n",
       "20  Sisca, please tell all the participants of the...  schedule cancellation\n",
       "21               Sisca, cancel the appointment today.  schedule cancellation\n",
       "22       I want to call off the next month's meeting.  schedule cancellation\n",
       "23  I need to go tomorrow, so the meeting is cance...  schedule cancellation\n",
       "24  Sisca, please reschedule today's meeting to to...             reschedule\n",
       "25  I need to move today's schedule to the next tw...             reschedule\n",
       "26         Can we meet on Friday instead of tomorrow?             reschedule\n",
       "27  I have an urgent meeting today, so, can we mov...             reschedule\n",
       "28  About tomorrow's meeting, it seems like I have...             reschedule\n",
       "29  Sisca, please tell Tina that our meeting today...             reschedule\n",
       "30  Please tell all the participants for tomorrow ...             reschedule\n",
       "31  Please tell Rani that I can't join the monthly...  schedule confirmation\n",
       "32  Sisca, please let Aliyyah know that the date o...  schedule confirmation\n",
       "33    Tell Jeremy that I can join tomorrow's meeting.  schedule confirmation\n",
       "34                    I accept the Inud's invitation.  schedule confirmation\n",
       "35  Please notify Dhiya that her meeting's invitat...  schedule confirmation\n",
       "36  Yes, I accept the invitation and I can join th...  schedule confirmation\n",
       "37  I am sorry, I cannot join your meeting next week.  schedule confirmation"
      ],
      "text/html": "<div>\n<style scoped>\n    .dataframe tbody tr th:only-of-type {\n        vertical-align: middle;\n    }\n\n    .dataframe tbody tr th {\n        vertical-align: top;\n    }\n\n    .dataframe thead th {\n        text-align: right;\n    }\n</style>\n<table border=\"1\" class=\"dataframe\">\n  <thead>\n    <tr style=\"text-align: right;\">\n      <th></th>\n      <th>text</th>\n      <th>intent</th>\n    </tr>\n  </thead>\n  <tbody>\n    <tr>\n      <th>0</th>\n      <td>Sisca, please schedule a 20 minute meeting wit...</td>\n      <td>schedule creation</td>\n    </tr>\n    <tr>\n      <th>1</th>\n      <td>Sisca, I want to plan a meeting on Thursday mo...</td>\n      <td>schedule creation</td>\n    </tr>\n    <tr>\n      <th>2</th>\n      <td>I would like to take this opportunity to invit...</td>\n      <td>schedule creation</td>\n    </tr>\n    <tr>\n      <th>3</th>\n      <td>Are you free to meet at Bali meeting room on T...</td>\n      <td>schedule creation</td>\n    </tr>\n    <tr>\n      <th>4</th>\n      <td>Are you free to chat at 4 PM to talk through h...</td>\n      <td>schedule creation</td>\n    </tr>\n    <tr>\n      <th>5</th>\n      <td>Want to book in a quick meeting this week to s...</td>\n      <td>schedule creation</td>\n    </tr>\n    <tr>\n      <th>6</th>\n      <td>I've got some free time next week to talk this...</td>\n      <td>schedule creation</td>\n    </tr>\n    <tr>\n      <th>7</th>\n      <td>Do you have five minutes this week to talk?</td>\n      <td>schedule creation</td>\n    </tr>\n    <tr>\n      <th>8</th>\n      <td>Please book a meeting room for tomorrow mornin...</td>\n      <td>schedule creation</td>\n    </tr>\n    <tr>\n      <th>9</th>\n      <td>Would you be interested in hopping on a quick ...</td>\n      <td>schedule creation</td>\n    </tr>\n    <tr>\n      <th>10</th>\n      <td>Sisca, do I have a schedule tomorrow?</td>\n      <td>schedule check</td>\n    </tr>\n    <tr>\n      <th>11</th>\n      <td>I need to check my calendar to see if I am ava...</td>\n      <td>schedule check</td>\n    </tr>\n    <tr>\n      <th>12</th>\n      <td>Please check my schedule for the next week.</td>\n      <td>schedule check</td>\n    </tr>\n    <tr>\n      <th>13</th>\n      <td>Sisca, am I free for the next two days?</td>\n      <td>schedule check</td>\n    </tr>\n    <tr>\n      <th>14</th>\n      <td>Let me know if I have any appointment this month.</td>\n      <td>schedule check</td>\n    </tr>\n    <tr>\n      <th>15</th>\n      <td>I want to make sure if I can take a day-off to...</td>\n      <td>schedule check</td>\n    </tr>\n    <tr>\n      <th>16</th>\n      <td>Do I have a meeting with John today?</td>\n      <td>schedule check</td>\n    </tr>\n    <tr>\n      <th>17</th>\n      <td>I need to cancel my meeting today.</td>\n      <td>schedule cancellation</td>\n    </tr>\n    <tr>\n      <th>18</th>\n      <td>Please tell Faiz that our meeting tomorrow is ...</td>\n      <td>schedule cancellation</td>\n    </tr>\n    <tr>\n      <th>19</th>\n      <td>I guess we don't need the next day's meeting a...</td>\n      <td>schedule cancellation</td>\n    </tr>\n    <tr>\n      <th>20</th>\n      <td>Sisca, please tell all the participants of the...</td>\n      <td>schedule cancellation</td>\n    </tr>\n    <tr>\n      <th>21</th>\n      <td>Sisca, cancel the appointment today.</td>\n      <td>schedule cancellation</td>\n    </tr>\n    <tr>\n      <th>22</th>\n      <td>I want to call off the next month's meeting.</td>\n      <td>schedule cancellation</td>\n    </tr>\n    <tr>\n      <th>23</th>\n      <td>I need to go tomorrow, so the meeting is cance...</td>\n      <td>schedule cancellation</td>\n    </tr>\n    <tr>\n      <th>24</th>\n      <td>Sisca, please reschedule today's meeting to to...</td>\n      <td>reschedule</td>\n    </tr>\n    <tr>\n      <th>25</th>\n      <td>I need to move today's schedule to the next tw...</td>\n      <td>reschedule</td>\n    </tr>\n    <tr>\n      <th>26</th>\n      <td>Can we meet on Friday instead of tomorrow?</td>\n      <td>reschedule</td>\n    </tr>\n    <tr>\n      <th>27</th>\n      <td>I have an urgent meeting today, so, can we mov...</td>\n      <td>reschedule</td>\n    </tr>\n    <tr>\n      <th>28</th>\n      <td>About tomorrow's meeting, it seems like I have...</td>\n      <td>reschedule</td>\n    </tr>\n    <tr>\n      <th>29</th>\n      <td>Sisca, please tell Tina that our meeting today...</td>\n      <td>reschedule</td>\n    </tr>\n    <tr>\n      <th>30</th>\n      <td>Please tell all the participants for tomorrow ...</td>\n      <td>reschedule</td>\n    </tr>\n    <tr>\n      <th>31</th>\n      <td>Please tell Rani that I can't join the monthly...</td>\n      <td>schedule confirmation</td>\n    </tr>\n    <tr>\n      <th>32</th>\n      <td>Sisca, please let Aliyyah know that the date o...</td>\n      <td>schedule confirmation</td>\n    </tr>\n    <tr>\n      <th>33</th>\n      <td>Tell Jeremy that I can join tomorrow's meeting.</td>\n      <td>schedule confirmation</td>\n    </tr>\n    <tr>\n      <th>34</th>\n      <td>I accept the Inud's invitation.</td>\n      <td>schedule confirmation</td>\n    </tr>\n    <tr>\n      <th>35</th>\n      <td>Please notify Dhiya that her meeting's invitat...</td>\n      <td>schedule confirmation</td>\n    </tr>\n    <tr>\n      <th>36</th>\n      <td>Yes, I accept the invitation and I can join th...</td>\n      <td>schedule confirmation</td>\n    </tr>\n    <tr>\n      <th>37</th>\n      <td>I am sorry, I cannot join your meeting next week.</td>\n      <td>schedule confirmation</td>\n    </tr>\n  </tbody>\n</table>\n</div>"
     },
     "metadata": {},
     "execution_count": 50
    }
   ],
   "source": [
    "df_intents"
   ]
  },
  {
   "source": [
    "## Text Preprocessing\n",
    "### download and import required libraries and dictionaries"
   ],
   "cell_type": "markdown",
   "metadata": {}
  },
  {
   "cell_type": "code",
   "execution_count": 51,
   "metadata": {},
   "outputs": [
    {
     "output_type": "stream",
     "name": "stderr",
     "text": [
      "[nltk_data] Downloading package punkt to\n[nltk_data]     C:\\Users\\jaysy\\AppData\\Roaming\\nltk_data...\n[nltk_data]   Package punkt is already up-to-date!\n[nltk_data] Downloading package stopwords to\n[nltk_data]     C:\\Users\\jaysy\\AppData\\Roaming\\nltk_data...\n[nltk_data]   Package stopwords is already up-to-date!\n[nltk_data] Downloading package wordnet to\n[nltk_data]     C:\\Users\\jaysy\\AppData\\Roaming\\nltk_data...\n[nltk_data]   Package wordnet is already up-to-date!\n"
     ]
    },
    {
     "output_type": "execute_result",
     "data": {
      "text/plain": [
       "True"
      ]
     },
     "metadata": {},
     "execution_count": 51
    }
   ],
   "source": [
    "import nltk\n",
    "\n",
    "language = 'english'\n",
    "nltk.download('punkt')\n",
    "nltk.download('stopwords')\n",
    "nltk.download('wordnet')"
   ]
  },
  {
   "cell_type": "code",
   "execution_count": 52,
   "metadata": {},
   "outputs": [],
   "source": [
    "from nltk.corpus import stopwords\n",
    "from nltk.stem import PorterStemmer, WordNetLemmatizer\n",
    "from nltk.corpus import wordnet"
   ]
  },
  {
   "source": [
    "### process text"
   ],
   "cell_type": "markdown",
   "metadata": {}
  },
  {
   "cell_type": "code",
   "execution_count": 53,
   "metadata": {},
   "outputs": [],
   "source": [
    "import re"
   ]
  },
  {
   "cell_type": "code",
   "execution_count": 54,
   "metadata": {},
   "outputs": [],
   "source": [
    "texts = df_intents['text'].tolist()"
   ]
  },
  {
   "cell_type": "code",
   "execution_count": 55,
   "metadata": {},
   "outputs": [],
   "source": [
    "def preprocess_text(text):\n",
    "    regex = r'[^\\w]'\n",
    "    lemmatizer = WordNetLemmatizer()\n",
    "    stop_words = set(stopwords.words(language))\n",
    "    sentences = ' '.join(nltk.sent_tokenize(re.sub(regex, ' ', text.lower())))\n",
    "    words = [lemmatizer.lemmatize(word, wordnet.VERB) for word in nltk.word_tokenize(sentences) if not word in stop_words]\n",
    "    return ' '.join(words)"
   ]
  },
  {
   "cell_type": "code",
   "execution_count": 56,
   "metadata": {},
   "outputs": [],
   "source": [
    "documents = []\n",
    "for text in texts:\n",
    "    documents.append(preprocess_text(text))"
   ]
  },
  {
   "cell_type": "code",
   "execution_count": 57,
   "metadata": {},
   "outputs": [
    {
     "output_type": "execute_result",
     "data": {
      "text/plain": [
       "['sisca please schedule 20 minute meet john week let deployment issue',\n",
       " 'sisca want plan meet thursday morning 9 precisely',\n",
       " 'would like take opportunity invite meet office 9 november 25 2020 discuss',\n",
       " 'free meet bali meet room tuesday morning talk',\n",
       " 'free chat 4 pm talk could help product release',\n",
       " 'want book quick meet week see let know available',\n",
       " 'get free time next week talk let create appointment',\n",
       " 'five minutes week talk',\n",
       " 'please book meet room tomorrow morning invite jays',\n",
       " 'would interest hop quick 15 minute call learn',\n",
       " 'sisca schedule tomorrow',\n",
       " 'need check calendar see available',\n",
       " 'please check schedule next week',\n",
       " 'sisca free next two days',\n",
       " 'let know appointment month',\n",
       " 'want make sure take day tomorrow',\n",
       " 'meet john today',\n",
       " 'need cancel meet today',\n",
       " 'please tell faiz meet tomorrow cancel',\n",
       " 'guess need next day meet anymore',\n",
       " 'sisca please tell participants project brief meet meet cancel',\n",
       " 'sisca cancel appointment today',\n",
       " 'want call next month meet',\n",
       " 'need go tomorrow meet cancel',\n",
       " 'sisca please reschedule today meet tomorrow',\n",
       " 'need move today schedule next two days',\n",
       " 'meet friday instead tomorrow',\n",
       " 'urgent meet today move schedule next week',\n",
       " 'tomorrow meet seem like another plan time reschedule thursday',\n",
       " 'sisca please tell tina meet today move next day',\n",
       " 'please tell participants tomorrow meet appointment move saturday morning',\n",
       " 'please tell rani join monthly meet today',\n",
       " 'sisca please let aliyyah know date meet fit',\n",
       " 'tell jeremy join tomorrow meet',\n",
       " 'accept inud invitation',\n",
       " 'please notify dhiya meet invitation match',\n",
       " 'yes accept invitation join meet',\n",
       " 'sorry join meet next week']"
      ]
     },
     "metadata": {},
     "execution_count": 57
    }
   ],
   "source": [
    "documents"
   ]
  },
  {
   "source": [
    "## Scoring"
   ],
   "cell_type": "markdown",
   "metadata": {}
  },
  {
   "cell_type": "code",
   "execution_count": 58,
   "metadata": {},
   "outputs": [],
   "source": [
    "from sklearn.feature_extraction.text import TfidfVectorizer"
   ]
  },
  {
   "cell_type": "code",
   "execution_count": 59,
   "metadata": {},
   "outputs": [],
   "source": [
    "def vectorize(documents, vectorizer=TfidfVectorizer()):\n",
    "    intent_values = vectorizer.fit_transform(documents)\n",
    "    return intent_values"
   ]
  },
  {
   "source": [
    "## Create ML Model"
   ],
   "cell_type": "markdown",
   "metadata": {}
  },
  {
   "cell_type": "code",
   "execution_count": 60,
   "metadata": {},
   "outputs": [],
   "source": [
    "vectorizer = TfidfVectorizer()"
   ]
  },
  {
   "cell_type": "code",
   "execution_count": 61,
   "metadata": {},
   "outputs": [],
   "source": [
    "X_raw = vectorize(documents, vectorizer)\n",
    "X = X_raw.toarray()\n",
    "y = df_intents['intent']"
   ]
  },
  {
   "cell_type": "code",
   "execution_count": 62,
   "metadata": {},
   "outputs": [
    {
     "output_type": "execute_result",
     "data": {
      "text/plain": [
       "0         schedule creation\n",
       "1         schedule creation\n",
       "2         schedule creation\n",
       "3         schedule creation\n",
       "4         schedule creation\n",
       "5         schedule creation\n",
       "6         schedule creation\n",
       "7         schedule creation\n",
       "8         schedule creation\n",
       "9         schedule creation\n",
       "10           schedule check\n",
       "11           schedule check\n",
       "12           schedule check\n",
       "13           schedule check\n",
       "14           schedule check\n",
       "15           schedule check\n",
       "16           schedule check\n",
       "17    schedule cancellation\n",
       "18    schedule cancellation\n",
       "19    schedule cancellation\n",
       "20    schedule cancellation\n",
       "21    schedule cancellation\n",
       "22    schedule cancellation\n",
       "23    schedule cancellation\n",
       "24               reschedule\n",
       "25               reschedule\n",
       "26               reschedule\n",
       "27               reschedule\n",
       "28               reschedule\n",
       "29               reschedule\n",
       "30               reschedule\n",
       "31    schedule confirmation\n",
       "32    schedule confirmation\n",
       "33    schedule confirmation\n",
       "34    schedule confirmation\n",
       "35    schedule confirmation\n",
       "36    schedule confirmation\n",
       "37    schedule confirmation\n",
       "Name: intent, dtype: object"
      ]
     },
     "metadata": {},
     "execution_count": 62
    }
   ],
   "source": [
    "y"
   ]
  },
  {
   "cell_type": "code",
   "execution_count": 63,
   "metadata": {},
   "outputs": [],
   "source": [
    "feature_names = vectorizer.get_feature_names()\n",
    "learning_df = pd.DataFrame(X_raw.toarray(), columns = feature_names)"
   ]
  },
  {
   "cell_type": "code",
   "execution_count": 64,
   "metadata": {},
   "outputs": [],
   "source": [
    "learning_df['CLASS'] = y"
   ]
  },
  {
   "cell_type": "code",
   "execution_count": 65,
   "metadata": {},
   "outputs": [
    {
     "output_type": "execute_result",
     "data": {
      "text/plain": [
       "    15        20      2020        25  accept  aliyyah  another  anymore  \\\n",
       "0  0.0  0.381738  0.000000  0.000000     0.0      0.0      0.0      0.0   \n",
       "1  0.0  0.000000  0.000000  0.000000     0.0      0.0      0.0      0.0   \n",
       "2  0.0  0.000000  0.327034  0.327034     0.0      0.0      0.0      0.0   \n",
       "3  0.0  0.000000  0.000000  0.000000     0.0      0.0      0.0      0.0   \n",
       "4  0.0  0.000000  0.000000  0.000000     0.0      0.0      0.0      0.0   \n",
       "\n",
       "   appointment  available  ...  today  tomorrow   tuesday  two  urgent  \\\n",
       "0          0.0        0.0  ...    0.0       0.0  0.000000  0.0     0.0   \n",
       "1          0.0        0.0  ...    0.0       0.0  0.000000  0.0     0.0   \n",
       "2          0.0        0.0  ...    0.0       0.0  0.000000  0.0     0.0   \n",
       "3          0.0        0.0  ...    0.0       0.0  0.443569  0.0     0.0   \n",
       "4          0.0        0.0  ...    0.0       0.0  0.000000  0.0     0.0   \n",
       "\n",
       "       want      week     would  yes              CLASS  \n",
       "0  0.000000  0.248452  0.000000  0.0  schedule creation  \n",
       "1  0.372048  0.000000  0.000000  0.0  schedule creation  \n",
       "2  0.000000  0.000000  0.293637  0.0  schedule creation  \n",
       "3  0.000000  0.000000  0.000000  0.0  schedule creation  \n",
       "4  0.000000  0.000000  0.000000  0.0  schedule creation  \n",
       "\n",
       "[5 rows x 100 columns]"
      ],
      "text/html": "<div>\n<style scoped>\n    .dataframe tbody tr th:only-of-type {\n        vertical-align: middle;\n    }\n\n    .dataframe tbody tr th {\n        vertical-align: top;\n    }\n\n    .dataframe thead th {\n        text-align: right;\n    }\n</style>\n<table border=\"1\" class=\"dataframe\">\n  <thead>\n    <tr style=\"text-align: right;\">\n      <th></th>\n      <th>15</th>\n      <th>20</th>\n      <th>2020</th>\n      <th>25</th>\n      <th>accept</th>\n      <th>aliyyah</th>\n      <th>another</th>\n      <th>anymore</th>\n      <th>appointment</th>\n      <th>available</th>\n      <th>...</th>\n      <th>today</th>\n      <th>tomorrow</th>\n      <th>tuesday</th>\n      <th>two</th>\n      <th>urgent</th>\n      <th>want</th>\n      <th>week</th>\n      <th>would</th>\n      <th>yes</th>\n      <th>CLASS</th>\n    </tr>\n  </thead>\n  <tbody>\n    <tr>\n      <th>0</th>\n      <td>0.0</td>\n      <td>0.381738</td>\n      <td>0.000000</td>\n      <td>0.000000</td>\n      <td>0.0</td>\n      <td>0.0</td>\n      <td>0.0</td>\n      <td>0.0</td>\n      <td>0.0</td>\n      <td>0.0</td>\n      <td>...</td>\n      <td>0.0</td>\n      <td>0.0</td>\n      <td>0.000000</td>\n      <td>0.0</td>\n      <td>0.0</td>\n      <td>0.000000</td>\n      <td>0.248452</td>\n      <td>0.000000</td>\n      <td>0.0</td>\n      <td>schedule creation</td>\n    </tr>\n    <tr>\n      <th>1</th>\n      <td>0.0</td>\n      <td>0.000000</td>\n      <td>0.000000</td>\n      <td>0.000000</td>\n      <td>0.0</td>\n      <td>0.0</td>\n      <td>0.0</td>\n      <td>0.0</td>\n      <td>0.0</td>\n      <td>0.0</td>\n      <td>...</td>\n      <td>0.0</td>\n      <td>0.0</td>\n      <td>0.000000</td>\n      <td>0.0</td>\n      <td>0.0</td>\n      <td>0.372048</td>\n      <td>0.000000</td>\n      <td>0.000000</td>\n      <td>0.0</td>\n      <td>schedule creation</td>\n    </tr>\n    <tr>\n      <th>2</th>\n      <td>0.0</td>\n      <td>0.000000</td>\n      <td>0.327034</td>\n      <td>0.327034</td>\n      <td>0.0</td>\n      <td>0.0</td>\n      <td>0.0</td>\n      <td>0.0</td>\n      <td>0.0</td>\n      <td>0.0</td>\n      <td>...</td>\n      <td>0.0</td>\n      <td>0.0</td>\n      <td>0.000000</td>\n      <td>0.0</td>\n      <td>0.0</td>\n      <td>0.000000</td>\n      <td>0.000000</td>\n      <td>0.293637</td>\n      <td>0.0</td>\n      <td>schedule creation</td>\n    </tr>\n    <tr>\n      <th>3</th>\n      <td>0.0</td>\n      <td>0.000000</td>\n      <td>0.000000</td>\n      <td>0.000000</td>\n      <td>0.0</td>\n      <td>0.0</td>\n      <td>0.0</td>\n      <td>0.0</td>\n      <td>0.0</td>\n      <td>0.0</td>\n      <td>...</td>\n      <td>0.0</td>\n      <td>0.0</td>\n      <td>0.443569</td>\n      <td>0.0</td>\n      <td>0.0</td>\n      <td>0.000000</td>\n      <td>0.000000</td>\n      <td>0.000000</td>\n      <td>0.0</td>\n      <td>schedule creation</td>\n    </tr>\n    <tr>\n      <th>4</th>\n      <td>0.0</td>\n      <td>0.000000</td>\n      <td>0.000000</td>\n      <td>0.000000</td>\n      <td>0.0</td>\n      <td>0.0</td>\n      <td>0.0</td>\n      <td>0.0</td>\n      <td>0.0</td>\n      <td>0.0</td>\n      <td>...</td>\n      <td>0.0</td>\n      <td>0.0</td>\n      <td>0.000000</td>\n      <td>0.0</td>\n      <td>0.0</td>\n      <td>0.000000</td>\n      <td>0.000000</td>\n      <td>0.000000</td>\n      <td>0.0</td>\n      <td>schedule creation</td>\n    </tr>\n  </tbody>\n</table>\n<p>5 rows × 100 columns</p>\n</div>"
     },
     "metadata": {},
     "execution_count": 65
    }
   ],
   "source": [
    "learning_df.head()"
   ]
  },
  {
   "cell_type": "code",
   "execution_count": 66,
   "metadata": {},
   "outputs": [
    {
     "output_type": "stream",
     "name": "stdout",
     "text": [
      "[[0.         0.38173788 0.         ... 0.24845178 0.         0.        ]\n [0.         0.         0.         ... 0.         0.         0.        ]\n [0.         0.         0.32703414 ... 0.         0.29363689 0.        ]\n ...\n [0.         0.         0.         ... 0.         0.         0.        ]\n [0.         0.         0.         ... 0.         0.         0.5586233 ]\n [0.         0.         0.         ... 0.41210797 0.         0.        ]]\n0         schedule creation\n1         schedule creation\n2         schedule creation\n3         schedule creation\n4         schedule creation\n5         schedule creation\n6         schedule creation\n7         schedule creation\n8         schedule creation\n9         schedule creation\n10           schedule check\n11           schedule check\n12           schedule check\n13           schedule check\n14           schedule check\n15           schedule check\n16           schedule check\n17    schedule cancellation\n18    schedule cancellation\n19    schedule cancellation\n20    schedule cancellation\n21    schedule cancellation\n22    schedule cancellation\n23    schedule cancellation\n24               reschedule\n25               reschedule\n26               reschedule\n27               reschedule\n28               reschedule\n29               reschedule\n30               reschedule\n31    schedule confirmation\n32    schedule confirmation\n33    schedule confirmation\n34    schedule confirmation\n35    schedule confirmation\n36    schedule confirmation\n37    schedule confirmation\nName: intent, dtype: object\n"
     ]
    }
   ],
   "source": [
    "print(X)\n",
    "print(y)"
   ]
  },
  {
   "source": [
    "### train test split"
   ],
   "cell_type": "markdown",
   "metadata": {}
  },
  {
   "cell_type": "code",
   "execution_count": 67,
   "metadata": {},
   "outputs": [],
   "source": [
    "from sklearn.model_selection import train_test_split"
   ]
  },
  {
   "cell_type": "code",
   "execution_count": 68,
   "metadata": {},
   "outputs": [],
   "source": [
    "X_train, X_test, y_train, y_test = train_test_split(X, y, test_size=0.15, train_size=0.85)"
   ]
  },
  {
   "cell_type": "code",
   "execution_count": 69,
   "metadata": {},
   "outputs": [
    {
     "output_type": "stream",
     "name": "stdout",
     "text": [
      "[[0.        0.        0.        ... 0.        0.        0.       ]\n [0.        0.        0.        ... 0.        0.        0.       ]\n [0.        0.        0.        ... 0.3748105 0.        0.       ]\n ...\n [0.        0.        0.        ... 0.        0.        0.       ]\n [0.        0.        0.        ... 0.        0.        0.       ]\n [0.        0.        0.        ... 0.        0.        0.       ]]\n[[0.         0.         0.         0.         0.         0.\n  0.         0.         0.         0.         0.         0.\n  0.         0.         0.         0.         0.         0.\n  0.         0.         0.         0.         0.         0.\n  0.         0.         0.         0.         0.         0.\n  0.         0.         0.         0.         0.         0.\n  0.         0.         0.         0.         0.         0.\n  0.         0.         0.         0.         0.         0.\n  0.         0.         0.         0.         0.23352846 0.\n  0.         0.         0.         0.         0.         0.\n  0.         0.         0.         0.         0.         0.\n  0.         0.36199969 0.         0.         0.         0.\n  0.         0.         0.         0.59234279 0.         0.\n  0.         0.         0.         0.39229377 0.         0.\n  0.         0.         0.         0.         0.         0.\n  0.40980021 0.37645728 0.         0.         0.         0.\n  0.         0.         0.        ]\n [0.         0.         0.         0.         0.         0.\n  0.         0.         0.         0.         0.         0.\n  0.         0.         0.         0.         0.         0.\n  0.         0.         0.         0.         0.         0.\n  0.         0.         0.         0.         0.         0.\n  0.         0.         0.         0.         0.         0.\n  0.         0.         0.         0.         0.         0.\n  0.         0.         0.78228739 0.         0.         0.\n  0.         0.         0.         0.         0.30841325 0.\n  0.         0.         0.         0.         0.         0.\n  0.         0.         0.         0.         0.         0.\n  0.         0.         0.         0.         0.         0.\n  0.         0.         0.         0.         0.         0.\n  0.         0.         0.         0.         0.         0.\n  0.         0.         0.         0.         0.         0.\n  0.54120948 0.         0.         0.         0.         0.\n  0.         0.         0.        ]\n [0.         0.         0.         0.         0.         0.\n  0.         0.         0.         0.         0.         0.\n  0.         0.         0.         0.         0.         0.\n  0.         0.         0.         0.         0.         0.\n  0.         0.         0.         0.         0.         0.\n  0.         0.         0.         0.         0.         0.\n  0.         0.         0.         0.         0.         0.\n  0.         0.63105129 0.         0.48541751 0.         0.\n  0.         0.         0.         0.         0.22338236 0.\n  0.         0.         0.         0.         0.         0.\n  0.         0.         0.         0.         0.         0.\n  0.         0.         0.         0.         0.         0.\n  0.         0.         0.         0.         0.         0.\n  0.         0.         0.         0.         0.         0.\n  0.         0.         0.43193916 0.         0.         0.\n  0.         0.36010137 0.         0.         0.         0.\n  0.         0.         0.        ]\n [0.         0.         0.         0.         0.         0.\n  0.         0.         0.56488201 0.         0.         0.\n  0.         0.         0.         0.53116034 0.         0.\n  0.         0.         0.         0.         0.         0.\n  0.         0.         0.         0.         0.         0.\n  0.         0.         0.         0.         0.         0.\n  0.         0.         0.         0.         0.         0.\n  0.         0.         0.         0.         0.         0.\n  0.         0.         0.         0.         0.         0.\n  0.         0.         0.         0.         0.         0.\n  0.         0.         0.         0.         0.         0.\n  0.         0.         0.         0.         0.         0.\n  0.         0.         0.         0.         0.         0.\n  0.         0.         0.         0.43667949 0.         0.\n  0.         0.         0.         0.         0.         0.\n  0.45616667 0.         0.         0.         0.         0.\n  0.         0.         0.        ]\n [0.         0.         0.         0.         0.         0.\n  0.         0.         0.         0.         0.         0.41144315\n  0.         0.         0.         0.         0.         0.\n  0.         0.         0.         0.         0.         0.\n  0.         0.         0.         0.         0.         0.\n  0.         0.         0.         0.         0.         0.\n  0.         0.         0.         0.         0.41144315 0.\n  0.45823928 0.         0.         0.         0.         0.\n  0.         0.         0.         0.         0.16220959 0.\n  0.         0.         0.         0.35248699 0.         0.\n  0.         0.         0.         0.         0.         0.\n  0.         0.25144612 0.         0.         0.         0.\n  0.         0.         0.         0.         0.41144315 0.\n  0.         0.         0.         0.         0.         0.\n  0.         0.         0.         0.         0.         0.\n  0.         0.2614884  0.         0.         0.         0.\n  0.         0.         0.        ]\n [0.         0.         0.         0.         0.         0.\n  0.         0.         0.         0.         0.         0.\n  0.         0.         0.         0.         0.         0.\n  0.         0.         0.         0.         0.         0.\n  0.         0.         0.         0.         0.         0.\n  0.         0.         0.         0.         0.         0.\n  0.         0.         0.         0.         0.         0.\n  0.         0.         0.         0.         0.         0.\n  0.         0.         0.         0.         0.         0.\n  0.         0.         0.         0.         0.         0.\n  0.         0.         0.         0.         0.         0.\n  0.         0.         0.         0.         0.         0.\n  0.         0.         0.         0.         0.         0.\n  0.65962338 0.         0.         0.54229199 0.         0.\n  0.         0.         0.         0.         0.         0.\n  0.         0.52040023 0.         0.         0.         0.\n  0.         0.         0.        ]]\n26               reschedule\n19    schedule cancellation\n7         schedule creation\n25               reschedule\n13           schedule check\n5         schedule creation\n31    schedule confirmation\n17    schedule cancellation\n4         schedule creation\n11           schedule check\n12           schedule check\n15           schedule check\n36    schedule confirmation\n18    schedule cancellation\n30               reschedule\n29               reschedule\n22    schedule cancellation\n1         schedule creation\n37    schedule confirmation\n9         schedule creation\n2         schedule creation\n0         schedule creation\n27               reschedule\n3         schedule creation\n14           schedule check\n28               reschedule\n32    schedule confirmation\n20    schedule cancellation\n6         schedule creation\n34    schedule confirmation\n35    schedule confirmation\n23    schedule cancellation\nName: intent, dtype: object\n24               reschedule\n16           schedule check\n33    schedule confirmation\n21    schedule cancellation\n8         schedule creation\n10           schedule check\nName: intent, dtype: object\n"
     ]
    }
   ],
   "source": [
    "print(X_train)\n",
    "print(X_test)\n",
    "print(y_train)\n",
    "print(y_test)"
   ]
  },
  {
   "source": [
    "### create classifier using Naive Bayes Gaussian model"
   ],
   "cell_type": "markdown",
   "metadata": {}
  },
  {
   "cell_type": "code",
   "execution_count": 70,
   "metadata": {},
   "outputs": [
    {
     "output_type": "execute_result",
     "data": {
      "text/plain": [
       "KNeighborsClassifier()"
      ]
     },
     "metadata": {},
     "execution_count": 70
    }
   ],
   "source": [
    "# KNN\n",
    "from sklearn.neighbors import KNeighborsClassifier\n",
    "\n",
    "classifier = KNeighborsClassifier(n_neighbors=5)\n",
    "classifier.fit(X_train, y_train)"
   ]
  },
  {
   "cell_type": "code",
   "execution_count": 71,
   "metadata": {},
   "outputs": [],
   "source": [
    "# predict\n",
    "y_pred = classifier.predict(X_test)"
   ]
  },
  {
   "cell_type": "code",
   "execution_count": 72,
   "metadata": {},
   "outputs": [],
   "source": [
    "# check accuracy\n",
    "from sklearn.metrics import accuracy_score\n",
    "accuracy = accuracy_score(y_test, y_pred)"
   ]
  },
  {
   "cell_type": "code",
   "execution_count": 73,
   "metadata": {},
   "outputs": [
    {
     "output_type": "execute_result",
     "data": {
      "text/plain": [
       "array(['reschedule', 'reschedule', 'schedule confirmation',\n",
       "       'schedule cancellation', 'schedule creation', 'reschedule'],\n",
       "      dtype=object)"
      ]
     },
     "metadata": {},
     "execution_count": 73
    }
   ],
   "source": [
    "y_pred"
   ]
  },
  {
   "cell_type": "code",
   "execution_count": 74,
   "metadata": {},
   "outputs": [
    {
     "output_type": "execute_result",
     "data": {
      "text/plain": [
       "24               reschedule\n",
       "16           schedule check\n",
       "33    schedule confirmation\n",
       "21    schedule cancellation\n",
       "8         schedule creation\n",
       "10           schedule check\n",
       "Name: intent, dtype: object"
      ]
     },
     "metadata": {},
     "execution_count": 74
    }
   ],
   "source": [
    "y_test"
   ]
  },
  {
   "cell_type": "code",
   "execution_count": 75,
   "metadata": {},
   "outputs": [
    {
     "output_type": "execute_result",
     "data": {
      "text/plain": [
       "0.6666666666666666"
      ]
     },
     "metadata": {},
     "execution_count": 75
    }
   ],
   "source": [
    "accuracy"
   ]
  },
  {
   "source": [
    "## User Input Test"
   ],
   "cell_type": "markdown",
   "metadata": {}
  },
  {
   "cell_type": "code",
   "execution_count": 89,
   "metadata": {},
   "outputs": [
    {
     "output_type": "stream",
     "name": "stdout",
     "text": [
      "  (0, 90)\t0.5\n  (0, 67)\t0.5\n  (0, 52)\t0.5\n  (0, 15)\t0.5\n"
     ]
    }
   ],
   "source": [
    "user_input = input('Your message:')\n",
    "processed_input = preprocess_text(str(user_input)).split()\n",
    "input_row = [col for col in learning_df.columns if not col == 'CLASS']\n",
    "user_input_row = [input for input in processed_input if input in input_row]\n",
    "all_input_string = ' '.join(input_row)\n",
    "user_input_string = ' '.join(user_input_row)\n",
    "input_vectorizer = TfidfVectorizer()\n",
    "input_array = vectorize([all_input_string, user_input_string], input_vectorizer)\n",
    "processed_input_array = input_array[1]\n",
    "prediction = classifier.predict(processed_input_array)\n",
    "print(prediction)"
   ]
  },
  {
   "source": [
    "## Entities Extractor"
   ],
   "cell_type": "markdown",
   "metadata": {}
  },
  {
   "cell_type": "code",
   "execution_count": 94,
   "metadata": {},
   "outputs": [
    {
     "output_type": "stream",
     "name": "stdout",
     "text": [
      "entity defined: ['RELATIVE_TIME']\nentity details: {\n  \"NUMBER\": [],\n  \"RELATIVE_TIME\": [\n    \"today\"\n  ],\n  \"DAY_TIME\": [],\n  \"MONTH\": [],\n  \"DAY\": [],\n  \"PLACE\": [],\n  \"PERSON\": [],\n  \"DURATION\": [],\n  \"MEETING\": []\n}\n"
     ]
    }
   ],
   "source": [
    "entities_filepath = 'datasets/entities.json'\n",
    "with open(entities_filepath) as fe:\n",
    "    entities = json.load(fe)\n",
    "\n",
    "df_entities = pd.json_normalize(entities)\n",
    "col_entities = df_entities.columns\n",
    "\n",
    "ent_list = {}\n",
    "for col in col_entities:\n",
    "    for processed in processed_input:\n",
    "        if not col in ent_list:\n",
    "            ent_list[col] = []\n",
    "        if processed in df_entities[col][0]:\n",
    "            ent_list[col].append(processed)\n",
    "\n",
    "output_ent = []\n",
    "for key, value in ent_list.items():\n",
    "    if len(value) > 0:\n",
    "        output_ent.append(key)\n",
    "\n",
    "print('entity defined:', output_ent)\n",
    "print('entity details:', json.dumps(ent_list, indent=2))"
   ]
  }
 ]
}