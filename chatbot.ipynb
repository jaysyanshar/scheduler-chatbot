{
 "metadata": {
  "language_info": {
   "codemirror_mode": {
    "name": "ipython",
    "version": 3
   },
   "file_extension": ".py",
   "mimetype": "text/x-python",
   "name": "python",
   "nbconvert_exporter": "python",
   "pygments_lexer": "ipython3",
   "version": "3.9.1-final"
  },
  "orig_nbformat": 2,
  "kernelspec": {
   "name": "python3",
   "display_name": "Python 3.9.1 64-bit",
   "metadata": {
    "interpreter": {
     "hash": "a3ec6f4bc231de0bbf4e13ed7416d7bb269eb113c11cc53143a25f42b3f921da"
    }
   }
  }
 },
 "nbformat": 4,
 "nbformat_minor": 2,
 "cells": [
  {
   "source": [
    "# Chatbot\n",
    "by Muhammad Jaysy Ansharulloh\n",
    "## Import datasets"
   ],
   "cell_type": "markdown",
   "metadata": {}
  },
  {
   "cell_type": "code",
   "execution_count": 73,
   "metadata": {},
   "outputs": [],
   "source": [
    "entities_filepath = 'datasets/entities.json'\n",
    "intents_filepath = 'datasets/intents.json'"
   ]
  },
  {
   "cell_type": "code",
   "execution_count": 74,
   "metadata": {},
   "outputs": [],
   "source": [
    "import json"
   ]
  },
  {
   "cell_type": "code",
   "execution_count": 75,
   "metadata": {},
   "outputs": [],
   "source": [
    "with open(intents_filepath) as fi:\n",
    "    intents = json.load(fi)\n",
    "\n",
    "with open(entities_filepath) as fe:\n",
    "    entities = json.load(fe)"
   ]
  },
  {
   "cell_type": "code",
   "execution_count": 76,
   "metadata": {},
   "outputs": [
    {
     "output_type": "stream",
     "name": "stdout",
     "text": [
      "[{'text': 'schedule a meeting', 'intent': 'schedule creation'}, {'text': 'write schedule', 'intent': 'schedule creation'}, {'text': 'create an appointment', 'intent': 'schedule creation'}, {'text': 'host a meeting', 'intent': 'schedule creation'}, {'text': 'create a meeting schedule', 'intent': 'schedule creation'}, {'text': 'help me schedule a meeting', 'intent': 'schedule creation'}, {'text': 'please write a meeting schedule', 'intent': 'schedule creation'}, {'text': 'check my schedule', 'intent': 'schedule check'}, {'text': 'open my calendar', 'intent': 'schedule check'}, {'text': 'what is today schedule', 'intent': 'schedule check'}, {'text': 'what is on today', 'intent': 'schedule check'}, {'text': 'how to check my schedule', 'intent': 'schedule check'}, {'text': 'today schedule', 'intent': 'schedule check'}, {'text': 'check calendar', 'intent': 'schedule check'}, {'text': 'please schedule for', 'intent': 'duration definition'}, {'text': 'for some minutes', 'intent': 'duration definition'}, {'text': 'for an hour', 'intent': 'duration definition'}, {'text': 'for some hours', 'intent': 'duration definition'}, {'text': 'please schedule an hour', 'intent': 'duration definition'}, {'text': 'create schedule with duration', 'intent': 'duration definition'}, {'text': 'create schedule from a time', 'intent': 'duration definition'}, {'text': 'from time to time', 'intent': 'duration definition'}, {'text': 'plan a meeting with', 'intent': 'participant invite'}, {'text': 'plan with and with', 'intent': 'participant invite'}, {'text': 'please invite some people', 'intent': 'participant invite'}, {'text': 'please tell them', 'intent': 'participant invite'}, {'text': 'and bring somebody', 'intent': 'participant invite'}, {'text': 'i want to meet him', 'intent': 'participant invite'}, {'text': 'do not forget to tell her', 'intent': 'participant invite'}, {'text': 'please schedule at', 'intent': 'time definition'}, {'text': 'schedule a meeting on', 'intent': 'time definition'}, {'text': 'schedule a meeting before', 'intent': 'time definition'}, {'text': 'schedule this time', 'intent': 'time definition'}, {'text': 'meeting tomorrow at', 'intent': 'time definition'}, {'text': 'we can meet on', 'intent': 'time definition'}, {'text': 'let us start at', 'intent': 'time definition'}, {'text': 'let it be', 'intent': 'subject definition'}, {'text': 'an appointment for', 'intent': 'subject definition'}, {'text': 'we need to talk about', 'intent': 'subject definition'}, {'text': 'a meeting about', 'intent': 'subject definition'}, {'text': 'a meeting for', 'intent': 'subject definition'}, {'text': 'let us talk about', 'intent': 'subject definition'}, {'text': 'to discuss', 'intent': 'subject definition'}]\n{'TIME': ['on', 'at', 'morning', 'afternoon', 'evening', 'monday', 'tuesday', 'wednesday', 'thursday', 'friday', 'saturday', 'sunday', 'next week', 'next month', 'january', 'february', 'march', 'april', 'may', 'june', 'july', 'august', 'september', 'october', 'november', 'december'], 'PERSON': ['john', 'tina', 'jays', 'sisca', 'aliyyah'], 'DURATION': ['minutes', 'hours', 'days', 'from', 'to', 'minute', 'hour', 'day'], 'MEETING': ['Deployment Issue', 'Monthly Report', 'Weekly Report', 'Project Briefing', 'Employee Training']}\n"
     ]
    }
   ],
   "source": [
    "print(intents)\n",
    "print(entities)"
   ]
  },
  {
   "source": [
    "## JSON to dataframe"
   ],
   "cell_type": "markdown",
   "metadata": {}
  },
  {
   "cell_type": "code",
   "execution_count": 77,
   "metadata": {},
   "outputs": [],
   "source": [
    "import pandas as pd"
   ]
  },
  {
   "cell_type": "code",
   "execution_count": 78,
   "metadata": {},
   "outputs": [],
   "source": [
    "df_intents = pd.json_normalize(intents)"
   ]
  },
  {
   "cell_type": "code",
   "execution_count": 79,
   "metadata": {},
   "outputs": [
    {
     "output_type": "execute_result",
     "data": {
      "text/plain": [
       "                               text               intent\n",
       "0                schedule a meeting    schedule creation\n",
       "1                    write schedule    schedule creation\n",
       "2             create an appointment    schedule creation\n",
       "3                    host a meeting    schedule creation\n",
       "4         create a meeting schedule    schedule creation\n",
       "5        help me schedule a meeting    schedule creation\n",
       "6   please write a meeting schedule    schedule creation\n",
       "7                 check my schedule       schedule check\n",
       "8                  open my calendar       schedule check\n",
       "9            what is today schedule       schedule check\n",
       "10                 what is on today       schedule check\n",
       "11         how to check my schedule       schedule check\n",
       "12                   today schedule       schedule check\n",
       "13                   check calendar       schedule check\n",
       "14              please schedule for  duration definition\n",
       "15                 for some minutes  duration definition\n",
       "16                      for an hour  duration definition\n",
       "17                   for some hours  duration definition\n",
       "18          please schedule an hour  duration definition\n",
       "19    create schedule with duration  duration definition\n",
       "20      create schedule from a time  duration definition\n",
       "21                from time to time  duration definition\n",
       "22              plan a meeting with   participant invite\n",
       "23               plan with and with   participant invite\n",
       "24        please invite some people   participant invite\n",
       "25                 please tell them   participant invite\n",
       "26               and bring somebody   participant invite\n",
       "27               i want to meet him   participant invite\n",
       "28        do not forget to tell her   participant invite\n",
       "29               please schedule at      time definition\n",
       "30            schedule a meeting on      time definition\n",
       "31        schedule a meeting before      time definition\n",
       "32               schedule this time      time definition\n",
       "33              meeting tomorrow at      time definition\n",
       "34                   we can meet on      time definition\n",
       "35                  let us start at      time definition\n",
       "36                        let it be   subject definition\n",
       "37               an appointment for   subject definition\n",
       "38            we need to talk about   subject definition\n",
       "39                  a meeting about   subject definition\n",
       "40                    a meeting for   subject definition\n",
       "41                let us talk about   subject definition\n",
       "42                       to discuss   subject definition"
      ],
      "text/html": "<div>\n<style scoped>\n    .dataframe tbody tr th:only-of-type {\n        vertical-align: middle;\n    }\n\n    .dataframe tbody tr th {\n        vertical-align: top;\n    }\n\n    .dataframe thead th {\n        text-align: right;\n    }\n</style>\n<table border=\"1\" class=\"dataframe\">\n  <thead>\n    <tr style=\"text-align: right;\">\n      <th></th>\n      <th>text</th>\n      <th>intent</th>\n    </tr>\n  </thead>\n  <tbody>\n    <tr>\n      <th>0</th>\n      <td>schedule a meeting</td>\n      <td>schedule creation</td>\n    </tr>\n    <tr>\n      <th>1</th>\n      <td>write schedule</td>\n      <td>schedule creation</td>\n    </tr>\n    <tr>\n      <th>2</th>\n      <td>create an appointment</td>\n      <td>schedule creation</td>\n    </tr>\n    <tr>\n      <th>3</th>\n      <td>host a meeting</td>\n      <td>schedule creation</td>\n    </tr>\n    <tr>\n      <th>4</th>\n      <td>create a meeting schedule</td>\n      <td>schedule creation</td>\n    </tr>\n    <tr>\n      <th>5</th>\n      <td>help me schedule a meeting</td>\n      <td>schedule creation</td>\n    </tr>\n    <tr>\n      <th>6</th>\n      <td>please write a meeting schedule</td>\n      <td>schedule creation</td>\n    </tr>\n    <tr>\n      <th>7</th>\n      <td>check my schedule</td>\n      <td>schedule check</td>\n    </tr>\n    <tr>\n      <th>8</th>\n      <td>open my calendar</td>\n      <td>schedule check</td>\n    </tr>\n    <tr>\n      <th>9</th>\n      <td>what is today schedule</td>\n      <td>schedule check</td>\n    </tr>\n    <tr>\n      <th>10</th>\n      <td>what is on today</td>\n      <td>schedule check</td>\n    </tr>\n    <tr>\n      <th>11</th>\n      <td>how to check my schedule</td>\n      <td>schedule check</td>\n    </tr>\n    <tr>\n      <th>12</th>\n      <td>today schedule</td>\n      <td>schedule check</td>\n    </tr>\n    <tr>\n      <th>13</th>\n      <td>check calendar</td>\n      <td>schedule check</td>\n    </tr>\n    <tr>\n      <th>14</th>\n      <td>please schedule for</td>\n      <td>duration definition</td>\n    </tr>\n    <tr>\n      <th>15</th>\n      <td>for some minutes</td>\n      <td>duration definition</td>\n    </tr>\n    <tr>\n      <th>16</th>\n      <td>for an hour</td>\n      <td>duration definition</td>\n    </tr>\n    <tr>\n      <th>17</th>\n      <td>for some hours</td>\n      <td>duration definition</td>\n    </tr>\n    <tr>\n      <th>18</th>\n      <td>please schedule an hour</td>\n      <td>duration definition</td>\n    </tr>\n    <tr>\n      <th>19</th>\n      <td>create schedule with duration</td>\n      <td>duration definition</td>\n    </tr>\n    <tr>\n      <th>20</th>\n      <td>create schedule from a time</td>\n      <td>duration definition</td>\n    </tr>\n    <tr>\n      <th>21</th>\n      <td>from time to time</td>\n      <td>duration definition</td>\n    </tr>\n    <tr>\n      <th>22</th>\n      <td>plan a meeting with</td>\n      <td>participant invite</td>\n    </tr>\n    <tr>\n      <th>23</th>\n      <td>plan with and with</td>\n      <td>participant invite</td>\n    </tr>\n    <tr>\n      <th>24</th>\n      <td>please invite some people</td>\n      <td>participant invite</td>\n    </tr>\n    <tr>\n      <th>25</th>\n      <td>please tell them</td>\n      <td>participant invite</td>\n    </tr>\n    <tr>\n      <th>26</th>\n      <td>and bring somebody</td>\n      <td>participant invite</td>\n    </tr>\n    <tr>\n      <th>27</th>\n      <td>i want to meet him</td>\n      <td>participant invite</td>\n    </tr>\n    <tr>\n      <th>28</th>\n      <td>do not forget to tell her</td>\n      <td>participant invite</td>\n    </tr>\n    <tr>\n      <th>29</th>\n      <td>please schedule at</td>\n      <td>time definition</td>\n    </tr>\n    <tr>\n      <th>30</th>\n      <td>schedule a meeting on</td>\n      <td>time definition</td>\n    </tr>\n    <tr>\n      <th>31</th>\n      <td>schedule a meeting before</td>\n      <td>time definition</td>\n    </tr>\n    <tr>\n      <th>32</th>\n      <td>schedule this time</td>\n      <td>time definition</td>\n    </tr>\n    <tr>\n      <th>33</th>\n      <td>meeting tomorrow at</td>\n      <td>time definition</td>\n    </tr>\n    <tr>\n      <th>34</th>\n      <td>we can meet on</td>\n      <td>time definition</td>\n    </tr>\n    <tr>\n      <th>35</th>\n      <td>let us start at</td>\n      <td>time definition</td>\n    </tr>\n    <tr>\n      <th>36</th>\n      <td>let it be</td>\n      <td>subject definition</td>\n    </tr>\n    <tr>\n      <th>37</th>\n      <td>an appointment for</td>\n      <td>subject definition</td>\n    </tr>\n    <tr>\n      <th>38</th>\n      <td>we need to talk about</td>\n      <td>subject definition</td>\n    </tr>\n    <tr>\n      <th>39</th>\n      <td>a meeting about</td>\n      <td>subject definition</td>\n    </tr>\n    <tr>\n      <th>40</th>\n      <td>a meeting for</td>\n      <td>subject definition</td>\n    </tr>\n    <tr>\n      <th>41</th>\n      <td>let us talk about</td>\n      <td>subject definition</td>\n    </tr>\n    <tr>\n      <th>42</th>\n      <td>to discuss</td>\n      <td>subject definition</td>\n    </tr>\n  </tbody>\n</table>\n</div>"
     },
     "metadata": {},
     "execution_count": 79
    }
   ],
   "source": [
    "df_intents"
   ]
  },
  {
   "source": [
    "## Text Preprocessing\n",
    "### download and import required libraries and dictionaries"
   ],
   "cell_type": "markdown",
   "metadata": {}
  },
  {
   "cell_type": "code",
   "execution_count": 80,
   "metadata": {},
   "outputs": [
    {
     "output_type": "stream",
     "name": "stderr",
     "text": [
      "[nltk_data] Downloading package punkt to\n[nltk_data]     C:\\Users\\jaysy\\AppData\\Roaming\\nltk_data...\n[nltk_data]   Package punkt is already up-to-date!\n[nltk_data] Downloading package stopwords to\n[nltk_data]     C:\\Users\\jaysy\\AppData\\Roaming\\nltk_data...\n[nltk_data]   Package stopwords is already up-to-date!\n[nltk_data] Downloading package wordnet to\n[nltk_data]     C:\\Users\\jaysy\\AppData\\Roaming\\nltk_data...\n[nltk_data]   Package wordnet is already up-to-date!\n"
     ]
    },
    {
     "output_type": "execute_result",
     "data": {
      "text/plain": [
       "True"
      ]
     },
     "metadata": {},
     "execution_count": 80
    }
   ],
   "source": [
    "import nltk\n",
    "\n",
    "language = 'english'\n",
    "nltk.download('punkt')\n",
    "nltk.download('stopwords')\n",
    "nltk.download('wordnet')"
   ]
  },
  {
   "cell_type": "code",
   "execution_count": 81,
   "metadata": {},
   "outputs": [],
   "source": [
    "from nltk.corpus import stopwords\n",
    "from nltk.stem import PorterStemmer, WordNetLemmatizer\n",
    "from nltk.corpus import wordnet"
   ]
  },
  {
   "source": [
    "### process text"
   ],
   "cell_type": "markdown",
   "metadata": {}
  },
  {
   "cell_type": "code",
   "execution_count": 82,
   "metadata": {},
   "outputs": [],
   "source": [
    "import re"
   ]
  },
  {
   "cell_type": "code",
   "execution_count": 83,
   "metadata": {},
   "outputs": [],
   "source": [
    "texts = df_intents['text'].tolist()"
   ]
  },
  {
   "cell_type": "code",
   "execution_count": 84,
   "metadata": {},
   "outputs": [],
   "source": [
    "def preprocess_text(text):\n",
    "    regex = r'[^\\w]'\n",
    "    lemmatizer = WordNetLemmatizer()\n",
    "    stop_words = set(stopwords.words(language))\n",
    "    sentences = ' '.join(nltk.sent_tokenize(re.sub(regex, ' ', text.lower())))\n",
    "    words = [lemmatizer.lemmatize(word, wordnet.VERB) for word in nltk.word_tokenize(sentences) if not word in stop_words]\n",
    "    return ' '.join(words)"
   ]
  },
  {
   "cell_type": "code",
   "execution_count": 85,
   "metadata": {},
   "outputs": [],
   "source": [
    "documents = []\n",
    "for text in texts:\n",
    "    documents.append(preprocess_text(text))"
   ]
  },
  {
   "cell_type": "code",
   "execution_count": 86,
   "metadata": {},
   "outputs": [
    {
     "output_type": "execute_result",
     "data": {
      "text/plain": [
       "['schedule meet',\n",
       " 'write schedule',\n",
       " 'create appointment',\n",
       " 'host meet',\n",
       " 'create meet schedule',\n",
       " 'help schedule meet',\n",
       " 'please write meet schedule',\n",
       " 'check schedule',\n",
       " 'open calendar',\n",
       " 'today schedule',\n",
       " 'today',\n",
       " 'check schedule',\n",
       " 'today schedule',\n",
       " 'check calendar',\n",
       " 'please schedule',\n",
       " 'minutes',\n",
       " 'hour',\n",
       " 'hours',\n",
       " 'please schedule hour',\n",
       " 'create schedule duration',\n",
       " 'create schedule time',\n",
       " 'time time',\n",
       " 'plan meet',\n",
       " 'plan',\n",
       " 'please invite people',\n",
       " 'please tell',\n",
       " 'bring somebody',\n",
       " 'want meet',\n",
       " 'forget tell',\n",
       " 'please schedule',\n",
       " 'schedule meet',\n",
       " 'schedule meet',\n",
       " 'schedule time',\n",
       " 'meet tomorrow',\n",
       " 'meet',\n",
       " 'let us start',\n",
       " 'let',\n",
       " 'appointment',\n",
       " 'need talk',\n",
       " 'meet',\n",
       " 'meet',\n",
       " 'let us talk',\n",
       " 'discuss']"
      ]
     },
     "metadata": {},
     "execution_count": 86
    }
   ],
   "source": [
    "documents"
   ]
  },
  {
   "source": [
    "## Scoring"
   ],
   "cell_type": "markdown",
   "metadata": {}
  },
  {
   "cell_type": "code",
   "execution_count": 87,
   "metadata": {},
   "outputs": [],
   "source": [
    "from sklearn.feature_extraction.text import TfidfVectorizer"
   ]
  },
  {
   "cell_type": "code",
   "execution_count": 88,
   "metadata": {},
   "outputs": [],
   "source": [
    "def vectorize(documents, vectorizer=TfidfVectorizer()):\n",
    "    intent_values = vectorizer.fit_transform(documents)\n",
    "    return intent_values"
   ]
  },
  {
   "source": [
    "## Create ML Model"
   ],
   "cell_type": "markdown",
   "metadata": {}
  },
  {
   "cell_type": "code",
   "execution_count": 89,
   "metadata": {},
   "outputs": [],
   "source": [
    "X = vectorize(documents).toarray()\n",
    "y = df_intents['intent']"
   ]
  },
  {
   "cell_type": "code",
   "execution_count": 90,
   "metadata": {},
   "outputs": [
    {
     "output_type": "stream",
     "name": "stdout",
     "text": [
      "[[0.         0.         0.         ... 0.         0.         0.        ]\n [0.         0.         0.         ... 0.         0.         0.88944694]\n [0.75766103 0.         0.         ... 0.         0.         0.        ]\n ...\n [0.         0.         0.         ... 0.         0.         0.        ]\n [0.         0.         0.         ... 0.59235091 0.         0.        ]\n [0.         0.         0.         ... 0.         0.         0.        ]]\n0       schedule creation\n1       schedule creation\n2       schedule creation\n3       schedule creation\n4       schedule creation\n5       schedule creation\n6       schedule creation\n7          schedule check\n8          schedule check\n9          schedule check\n10         schedule check\n11         schedule check\n12         schedule check\n13         schedule check\n14    duration definition\n15    duration definition\n16    duration definition\n17    duration definition\n18    duration definition\n19    duration definition\n20    duration definition\n21    duration definition\n22     participant invite\n23     participant invite\n24     participant invite\n25     participant invite\n26     participant invite\n27     participant invite\n28     participant invite\n29        time definition\n30        time definition\n31        time definition\n32        time definition\n33        time definition\n34        time definition\n35        time definition\n36     subject definition\n37     subject definition\n38     subject definition\n39     subject definition\n40     subject definition\n41     subject definition\n42     subject definition\nName: intent, dtype: object\n"
     ]
    }
   ],
   "source": [
    "print(X)\n",
    "print(y)"
   ]
  },
  {
   "source": [
    "### train test split"
   ],
   "cell_type": "markdown",
   "metadata": {}
  },
  {
   "cell_type": "code",
   "execution_count": 91,
   "metadata": {},
   "outputs": [],
   "source": [
    "from sklearn.model_selection import train_test_split"
   ]
  },
  {
   "cell_type": "code",
   "execution_count": 92,
   "metadata": {},
   "outputs": [],
   "source": [
    "X_train, X_test, y_train, y_test = train_test_split(X, y)"
   ]
  },
  {
   "cell_type": "code",
   "execution_count": 93,
   "metadata": {},
   "outputs": [
    {
     "output_type": "stream",
     "name": "stdout",
     "text": [
      "[[0.         0.         0.         ... 0.         0.         0.        ]\n [0.75766103 0.         0.         ... 0.         0.         0.        ]\n [0.         0.         0.         ... 0.         0.         0.        ]\n ...\n [0.         0.         0.         ... 0.         0.         0.        ]\n [0.         0.         0.         ... 0.         0.         0.        ]\n [0.         0.         0.         ... 0.         0.         0.88944694]]\n[[0.         0.         0.         0.         0.         1.\n  0.         0.         0.         0.         0.         0.\n  0.         0.         0.         0.         0.         0.\n  0.         0.         0.         0.         0.         0.\n  0.         0.         0.         0.         0.         0.\n  0.         0.        ]\n [0.         0.         0.66932979 0.         0.         0.\n  0.         0.         0.         0.         0.         0.\n  0.         0.         0.         0.         0.         0.74296543\n  0.         0.         0.         0.         0.         0.\n  0.         0.         0.         0.         0.         0.\n  0.         0.        ]\n [0.         0.         0.         0.87349093 0.         0.\n  0.         0.         0.         0.         0.         0.\n  0.         0.         0.         0.         0.         0.\n  0.         0.         0.         0.48684041 0.         0.\n  0.         0.         0.         0.         0.         0.\n  0.         0.        ]\n [0.         0.70710678 0.         0.         0.         0.\n  0.         0.         0.         0.         0.         0.\n  0.         0.         0.         0.         0.         0.\n  0.         0.         0.         0.         0.70710678 0.\n  0.         0.         0.         0.         0.         0.\n  0.         0.        ]\n [0.         0.         0.         0.         0.         0.\n  0.         0.         0.         0.         0.         1.\n  0.         0.         0.         0.         0.         0.\n  0.         0.         0.         0.         0.         0.\n  0.         0.         0.         0.         0.         0.\n  0.         0.        ]\n [0.         0.         0.         0.         0.         0.\n  0.         0.         0.         0.         0.         0.\n  0.         0.54611427 0.         0.         0.         0.\n  0.         0.         0.         0.         0.         0.\n  0.59235091 0.         0.         0.         0.         0.59235091\n  0.         0.        ]\n [0.         0.         0.         0.         0.         0.\n  0.         0.         0.         0.         0.         0.\n  0.         0.         0.         0.         0.         0.\n  0.         1.         0.         0.         0.         0.\n  0.         0.         0.         0.         0.         0.\n  0.         0.        ]\n [0.         0.         0.         0.         0.         0.\n  0.         0.         0.         0.         0.         0.\n  0.         0.         1.         0.         0.         0.\n  0.         0.         0.         0.         0.         0.\n  0.         0.         0.         0.         0.         0.\n  0.         0.        ]\n [0.         0.         0.         0.         0.         0.\n  0.         0.         0.         0.         0.         0.\n  0.         0.         0.         0.         0.         0.\n  0.         0.         0.         0.48684041 0.         0.\n  0.         0.         0.         0.87349093 0.         0.\n  0.         0.        ]\n [0.         0.         0.         0.         0.         0.\n  0.         0.         0.         0.         0.         0.\n  0.63483051 0.         0.         0.         0.         0.\n  0.63483051 0.         0.4404321  0.         0.         0.\n  0.         0.         0.         0.         0.         0.\n  0.         0.        ]\n [0.         0.         0.         0.         0.6322841  0.\n  0.         0.         0.         0.         0.         0.\n  0.         0.         0.         0.         0.         0.\n  0.         0.         0.         0.37717309 0.         0.\n  0.         0.         0.67672541 0.         0.         0.\n  0.         0.        ]]\n18    duration definition\n2       schedule creation\n30        time definition\n7          schedule check\n21    duration definition\n5       schedule creation\n38     subject definition\n14    duration definition\n0       schedule creation\n6       schedule creation\n3       schedule creation\n10         schedule check\n16    duration definition\n13         schedule check\n28     participant invite\n36     subject definition\n25     participant invite\n39     subject definition\n19    duration definition\n27     participant invite\n15    duration definition\n4       schedule creation\n33        time definition\n35        time definition\n12         schedule check\n37     subject definition\n22     participant invite\n31        time definition\n29        time definition\n32        time definition\n40     subject definition\n1       schedule creation\nName: intent, dtype: object\n42     subject definition\n8          schedule check\n11         schedule check\n26     participant invite\n17    duration definition\n41     subject definition\n23     participant invite\n34        time definition\n9          schedule check\n24     participant invite\n20    duration definition\nName: intent, dtype: object\n"
     ]
    }
   ],
   "source": [
    "print(X_train)\n",
    "print(X_test)\n",
    "print(y_train)\n",
    "print(y_test)"
   ]
  },
  {
   "source": [
    "### create classifier using Naive Bayes Gaussian model"
   ],
   "cell_type": "markdown",
   "metadata": {}
  },
  {
   "cell_type": "code",
   "execution_count": 94,
   "metadata": {},
   "outputs": [
    {
     "output_type": "execute_result",
     "data": {
      "text/plain": [
       "GaussianNB()"
      ]
     },
     "metadata": {},
     "execution_count": 94
    }
   ],
   "source": [
    "# Naive Bayes classifier\n",
    "from sklearn.naive_bayes import GaussianNB\n",
    "\n",
    "classifier = GaussianNB()\n",
    "classifier.fit(X_train, y_train)"
   ]
  },
  {
   "cell_type": "code",
   "execution_count": 95,
   "metadata": {},
   "outputs": [],
   "source": [
    "# predict\n",
    "y_pred = classifier.predict(X_test)"
   ]
  },
  {
   "cell_type": "code",
   "execution_count": 96,
   "metadata": {},
   "outputs": [],
   "source": [
    "# check accuracy\n",
    "from sklearn.metrics import accuracy_score\n",
    "accuracy = accuracy_score(y_test, y_pred)"
   ]
  },
  {
   "cell_type": "code",
   "execution_count": 97,
   "metadata": {},
   "outputs": [
    {
     "output_type": "execute_result",
     "data": {
      "text/plain": [
       "0.6363636363636364"
      ]
     },
     "metadata": {},
     "execution_count": 97
    }
   ],
   "source": [
    "accuracy"
   ]
  },
  {
   "source": [
    "## User Input Test"
   ],
   "cell_type": "markdown",
   "metadata": {}
  },
  {
   "cell_type": "code",
   "execution_count": 105,
   "metadata": {},
   "outputs": [
    {
     "output_type": "stream",
     "name": "stdout",
     "text": [
      "['schedule creation']\n"
     ]
    }
   ],
   "source": [
    "user_input = input('Your message:')\n",
    "processed_input = preprocess_text(str(user_input))\n",
    "input_data = vectorize([processed_input]).toarray()\n",
    "prediction = classifier.predict(input_data)\n",
    "print(prediction)"
   ]
  }
 ]
}